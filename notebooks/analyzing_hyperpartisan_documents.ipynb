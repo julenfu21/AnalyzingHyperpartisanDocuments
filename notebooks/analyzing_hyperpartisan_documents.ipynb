{
 "cells": [
  {
   "cell_type": "markdown",
   "source": [
    "# Analyzing Hyperpartisan Documents"
   ],
   "metadata": {
    "collapsed": false
   },
   "id": "6dd4d717c5cff539"
  },
  {
   "cell_type": "markdown",
   "source": [
    "## 1. Setup Working Environment"
   ],
   "metadata": {
    "collapsed": false
   },
   "id": "bccccc10080ec8fe"
  },
  {
   "cell_type": "markdown",
   "source": [
    "### 1.1. Load zip data files"
   ],
   "metadata": {
    "collapsed": false
   },
   "id": "e816f8cf63e214e0"
  },
  {
   "cell_type": "markdown",
   "source": [
    "#### 1.1.1. Download zip files from Google Drive link"
   ],
   "metadata": {
    "collapsed": false
   },
   "id": "b543bd962b3ebdfb"
  },
  {
   "cell_type": "code",
   "outputs": [
    {
     "name": "stderr",
     "output_type": "stream",
     "text": [
      "Retrieving folder contents\n"
     ]
    },
    {
     "name": "stdout",
     "output_type": "stream",
     "text": [
      "Processing file 11XnbNY-7LdzEoo-HLaTzQcnFy4CVBPPZ articles-validation-bypublisher-20181122.zip\n",
      "Processing file 193XKdPA2rq5oq1KNKZdp7-jCDcjE9rOb ground-truth-validation-bypublisher-20181122.zip\n"
     ]
    },
    {
     "name": "stderr",
     "output_type": "stream",
     "text": [
      "Retrieving folder contents completed\n",
      "Building directory structure\n",
      "Building directory structure completed\n",
      "Downloading...\n",
      "From (original): https://drive.google.com/uc?id=11XnbNY-7LdzEoo-HLaTzQcnFy4CVBPPZ\n",
      "From (redirected): https://drive.google.com/uc?id=11XnbNY-7LdzEoo-HLaTzQcnFy4CVBPPZ&confirm=t&uuid=b3d2f4d0-b8bb-4d2e-ba30-12f235b42efa\n",
      "To: /home/jfu08/PycharmProjects/AnalyzingHyperpartisanDocuments/notebooks/data/articles-validation-bypublisher-20181122.zip\n",
      "100%|██████████| 337M/337M [01:48<00:00, 3.11MB/s] \n",
      "Downloading...\n",
      "From: https://drive.google.com/uc?id=193XKdPA2rq5oq1KNKZdp7-jCDcjE9rOb\n",
      "To: /home/jfu08/PycharmProjects/AnalyzingHyperpartisanDocuments/notebooks/data/ground-truth-validation-bypublisher-20181122.zip\n",
      "100%|██████████| 5.24M/5.24M [00:01<00:00, 3.17MB/s]\n",
      "Download completed\n"
     ]
    },
    {
     "data": {
      "text/plain": "['/home/jfu08/PycharmProjects/AnalyzingHyperpartisanDocuments/notebooks/data/articles-validation-bypublisher-20181122.zip',\n '/home/jfu08/PycharmProjects/AnalyzingHyperpartisanDocuments/notebooks/data/ground-truth-validation-bypublisher-20181122.zip']"
     },
     "execution_count": 1,
     "metadata": {},
     "output_type": "execute_result"
    }
   ],
   "source": [
    "import gdown\n",
    "\n",
    "zip_data_url = \"https://drive.google.com/drive/folders/1e8tgF2tGdZJ0HU-7pKX7yMLBLw71XTMe?usp=drive_link\"\n",
    "gdown.download_folder(zip_data_url)"
   ],
   "metadata": {
    "collapsed": false,
    "ExecuteTime": {
     "end_time": "2024-04-05T10:52:05.571796Z",
     "start_time": "2024-04-05T10:50:09.097795Z"
    }
   },
   "id": "2d18f2f4f7c39d2",
   "execution_count": 1
  },
  {
   "cell_type": "markdown",
   "source": [
    "#### 1.1.2. Move downloaded data files to the corresponding `zip_data_path`"
   ],
   "metadata": {
    "collapsed": false
   },
   "id": "cc3fde23e5781959"
  },
  {
   "cell_type": "code",
   "outputs": [],
   "source": [
    "import os\n",
    "import shutil\n",
    "\n",
    "\n",
    "downloaded_data_path = 'data'\n",
    "zip_data_path = '../data/zip'\n",
    "\n",
    "os.makedirs(zip_data_path)\n",
    "for zip_data_file in os.listdir('data'):\n",
    "    source_path = os.path.join(downloaded_data_path, zip_data_file)\n",
    "    destination_path = os.path.join(zip_data_path, zip_data_file)\n",
    "    shutil.move(source_path, destination_path)\n",
    "\n",
    "os.rmdir(downloaded_data_path)"
   ],
   "metadata": {
    "collapsed": false,
    "ExecuteTime": {
     "end_time": "2024-04-05T10:52:16.805868Z",
     "start_time": "2024-04-05T10:52:16.802372Z"
    }
   },
   "id": "c9ae201f259840e0",
   "execution_count": 2
  },
  {
   "cell_type": "markdown",
   "source": [
    "### 1.3. Install required packages"
   ],
   "metadata": {
    "collapsed": false
   },
   "id": "82d16d021b33e690"
  },
  {
   "cell_type": "code",
   "outputs": [
    {
     "name": "stdout",
     "output_type": "stream",
     "text": [
      "Requirement already satisfied: lxml in /home/jfu08/PycharmProjects/AnalyzingHyperpartisanDocuments/venv/lib/python3.10/site-packages (from -r ../requirements.txt (line 1)) (5.1.0)\r\n",
      "Requirement already satisfied: tqdm in /home/jfu08/PycharmProjects/AnalyzingHyperpartisanDocuments/venv/lib/python3.10/site-packages (from -r ../requirements.txt (line 2)) (4.66.2)\r\n",
      "Requirement already satisfied: nltk in /home/jfu08/PycharmProjects/AnalyzingHyperpartisanDocuments/venv/lib/python3.10/site-packages (from -r ../requirements.txt (line 3)) (3.8.1)\r\n",
      "Requirement already satisfied: jupyter in /home/jfu08/PycharmProjects/AnalyzingHyperpartisanDocuments/venv/lib/python3.10/site-packages (from -r ../requirements.txt (line 4)) (1.0.0)\r\n",
      "Requirement already satisfied: gdown in /home/jfu08/PycharmProjects/AnalyzingHyperpartisanDocuments/venv/lib/python3.10/site-packages (from -r ../requirements.txt (line 5)) (5.1.0)\r\n",
      "Requirement already satisfied: click in /home/jfu08/PycharmProjects/AnalyzingHyperpartisanDocuments/venv/lib/python3.10/site-packages (from nltk->-r ../requirements.txt (line 3)) (8.1.7)\r\n",
      "Requirement already satisfied: joblib in /home/jfu08/PycharmProjects/AnalyzingHyperpartisanDocuments/venv/lib/python3.10/site-packages (from nltk->-r ../requirements.txt (line 3)) (1.3.2)\r\n",
      "Requirement already satisfied: regex>=2021.8.3 in /home/jfu08/PycharmProjects/AnalyzingHyperpartisanDocuments/venv/lib/python3.10/site-packages (from nltk->-r ../requirements.txt (line 3)) (2023.12.25)\r\n",
      "Requirement already satisfied: notebook in /home/jfu08/PycharmProjects/AnalyzingHyperpartisanDocuments/venv/lib/python3.10/site-packages (from jupyter->-r ../requirements.txt (line 4)) (7.1.2)\r\n",
      "Requirement already satisfied: qtconsole in /home/jfu08/PycharmProjects/AnalyzingHyperpartisanDocuments/venv/lib/python3.10/site-packages (from jupyter->-r ../requirements.txt (line 4)) (5.5.1)\r\n",
      "Requirement already satisfied: jupyter-console in /home/jfu08/PycharmProjects/AnalyzingHyperpartisanDocuments/venv/lib/python3.10/site-packages (from jupyter->-r ../requirements.txt (line 4)) (6.6.3)\r\n",
      "Requirement already satisfied: nbconvert in /home/jfu08/PycharmProjects/AnalyzingHyperpartisanDocuments/venv/lib/python3.10/site-packages (from jupyter->-r ../requirements.txt (line 4)) (7.16.3)\r\n",
      "Requirement already satisfied: ipykernel in /home/jfu08/PycharmProjects/AnalyzingHyperpartisanDocuments/venv/lib/python3.10/site-packages (from jupyter->-r ../requirements.txt (line 4)) (6.29.4)\r\n",
      "Requirement already satisfied: ipywidgets in /home/jfu08/PycharmProjects/AnalyzingHyperpartisanDocuments/venv/lib/python3.10/site-packages (from jupyter->-r ../requirements.txt (line 4)) (8.1.2)\r\n",
      "Requirement already satisfied: beautifulsoup4 in /home/jfu08/PycharmProjects/AnalyzingHyperpartisanDocuments/venv/lib/python3.10/site-packages (from gdown->-r ../requirements.txt (line 5)) (4.12.3)\r\n",
      "Requirement already satisfied: filelock in /home/jfu08/PycharmProjects/AnalyzingHyperpartisanDocuments/venv/lib/python3.10/site-packages (from gdown->-r ../requirements.txt (line 5)) (3.13.3)\r\n",
      "Requirement already satisfied: requests[socks] in /home/jfu08/PycharmProjects/AnalyzingHyperpartisanDocuments/venv/lib/python3.10/site-packages (from gdown->-r ../requirements.txt (line 5)) (2.31.0)\r\n",
      "Requirement already satisfied: soupsieve>1.2 in /home/jfu08/PycharmProjects/AnalyzingHyperpartisanDocuments/venv/lib/python3.10/site-packages (from beautifulsoup4->gdown->-r ../requirements.txt (line 5)) (2.5)\r\n",
      "Requirement already satisfied: comm>=0.1.1 in /home/jfu08/PycharmProjects/AnalyzingHyperpartisanDocuments/venv/lib/python3.10/site-packages (from ipykernel->jupyter->-r ../requirements.txt (line 4)) (0.2.2)\r\n",
      "Requirement already satisfied: debugpy>=1.6.5 in /home/jfu08/PycharmProjects/AnalyzingHyperpartisanDocuments/venv/lib/python3.10/site-packages (from ipykernel->jupyter->-r ../requirements.txt (line 4)) (1.8.1)\r\n",
      "Requirement already satisfied: ipython>=7.23.1 in /home/jfu08/PycharmProjects/AnalyzingHyperpartisanDocuments/venv/lib/python3.10/site-packages (from ipykernel->jupyter->-r ../requirements.txt (line 4)) (8.23.0)\r\n",
      "Requirement already satisfied: jupyter-client>=6.1.12 in /home/jfu08/PycharmProjects/AnalyzingHyperpartisanDocuments/venv/lib/python3.10/site-packages (from ipykernel->jupyter->-r ../requirements.txt (line 4)) (8.6.1)\r\n",
      "Requirement already satisfied: jupyter-core!=5.0.*,>=4.12 in /home/jfu08/PycharmProjects/AnalyzingHyperpartisanDocuments/venv/lib/python3.10/site-packages (from ipykernel->jupyter->-r ../requirements.txt (line 4)) (5.7.2)\r\n",
      "Requirement already satisfied: matplotlib-inline>=0.1 in /home/jfu08/PycharmProjects/AnalyzingHyperpartisanDocuments/venv/lib/python3.10/site-packages (from ipykernel->jupyter->-r ../requirements.txt (line 4)) (0.1.6)\r\n",
      "Requirement already satisfied: nest-asyncio in /home/jfu08/PycharmProjects/AnalyzingHyperpartisanDocuments/venv/lib/python3.10/site-packages (from ipykernel->jupyter->-r ../requirements.txt (line 4)) (1.6.0)\r\n",
      "Requirement already satisfied: packaging in /home/jfu08/PycharmProjects/AnalyzingHyperpartisanDocuments/venv/lib/python3.10/site-packages (from ipykernel->jupyter->-r ../requirements.txt (line 4)) (24.0)\r\n",
      "Requirement already satisfied: psutil in /home/jfu08/PycharmProjects/AnalyzingHyperpartisanDocuments/venv/lib/python3.10/site-packages (from ipykernel->jupyter->-r ../requirements.txt (line 4)) (5.9.8)\r\n",
      "Requirement already satisfied: pyzmq>=24 in /home/jfu08/PycharmProjects/AnalyzingHyperpartisanDocuments/venv/lib/python3.10/site-packages (from ipykernel->jupyter->-r ../requirements.txt (line 4)) (25.1.2)\r\n",
      "Requirement already satisfied: tornado>=6.1 in /home/jfu08/PycharmProjects/AnalyzingHyperpartisanDocuments/venv/lib/python3.10/site-packages (from ipykernel->jupyter->-r ../requirements.txt (line 4)) (6.4)\r\n",
      "Requirement already satisfied: traitlets>=5.4.0 in /home/jfu08/PycharmProjects/AnalyzingHyperpartisanDocuments/venv/lib/python3.10/site-packages (from ipykernel->jupyter->-r ../requirements.txt (line 4)) (5.14.2)\r\n",
      "Requirement already satisfied: widgetsnbextension~=4.0.10 in /home/jfu08/PycharmProjects/AnalyzingHyperpartisanDocuments/venv/lib/python3.10/site-packages (from ipywidgets->jupyter->-r ../requirements.txt (line 4)) (4.0.10)\r\n",
      "Requirement already satisfied: jupyterlab-widgets~=3.0.10 in /home/jfu08/PycharmProjects/AnalyzingHyperpartisanDocuments/venv/lib/python3.10/site-packages (from ipywidgets->jupyter->-r ../requirements.txt (line 4)) (3.0.10)\r\n",
      "Requirement already satisfied: prompt-toolkit>=3.0.30 in /home/jfu08/PycharmProjects/AnalyzingHyperpartisanDocuments/venv/lib/python3.10/site-packages (from jupyter-console->jupyter->-r ../requirements.txt (line 4)) (3.0.43)\r\n",
      "Requirement already satisfied: pygments in /home/jfu08/PycharmProjects/AnalyzingHyperpartisanDocuments/venv/lib/python3.10/site-packages (from jupyter-console->jupyter->-r ../requirements.txt (line 4)) (2.17.2)\r\n",
      "Requirement already satisfied: bleach!=5.0.0 in /home/jfu08/PycharmProjects/AnalyzingHyperpartisanDocuments/venv/lib/python3.10/site-packages (from nbconvert->jupyter->-r ../requirements.txt (line 4)) (6.1.0)\r\n",
      "Requirement already satisfied: defusedxml in /home/jfu08/PycharmProjects/AnalyzingHyperpartisanDocuments/venv/lib/python3.10/site-packages (from nbconvert->jupyter->-r ../requirements.txt (line 4)) (0.7.1)\r\n",
      "Requirement already satisfied: jinja2>=3.0 in /home/jfu08/PycharmProjects/AnalyzingHyperpartisanDocuments/venv/lib/python3.10/site-packages (from nbconvert->jupyter->-r ../requirements.txt (line 4)) (3.1.3)\r\n",
      "Requirement already satisfied: jupyterlab-pygments in /home/jfu08/PycharmProjects/AnalyzingHyperpartisanDocuments/venv/lib/python3.10/site-packages (from nbconvert->jupyter->-r ../requirements.txt (line 4)) (0.3.0)\r\n",
      "Requirement already satisfied: markupsafe>=2.0 in /home/jfu08/PycharmProjects/AnalyzingHyperpartisanDocuments/venv/lib/python3.10/site-packages (from nbconvert->jupyter->-r ../requirements.txt (line 4)) (2.1.5)\r\n",
      "Requirement already satisfied: mistune<4,>=2.0.3 in /home/jfu08/PycharmProjects/AnalyzingHyperpartisanDocuments/venv/lib/python3.10/site-packages (from nbconvert->jupyter->-r ../requirements.txt (line 4)) (3.0.2)\r\n",
      "Requirement already satisfied: nbclient>=0.5.0 in /home/jfu08/PycharmProjects/AnalyzingHyperpartisanDocuments/venv/lib/python3.10/site-packages (from nbconvert->jupyter->-r ../requirements.txt (line 4)) (0.10.0)\r\n",
      "Requirement already satisfied: nbformat>=5.7 in /home/jfu08/PycharmProjects/AnalyzingHyperpartisanDocuments/venv/lib/python3.10/site-packages (from nbconvert->jupyter->-r ../requirements.txt (line 4)) (5.10.4)\r\n",
      "Requirement already satisfied: pandocfilters>=1.4.1 in /home/jfu08/PycharmProjects/AnalyzingHyperpartisanDocuments/venv/lib/python3.10/site-packages (from nbconvert->jupyter->-r ../requirements.txt (line 4)) (1.5.1)\r\n",
      "Requirement already satisfied: tinycss2 in /home/jfu08/PycharmProjects/AnalyzingHyperpartisanDocuments/venv/lib/python3.10/site-packages (from nbconvert->jupyter->-r ../requirements.txt (line 4)) (1.2.1)\r\n",
      "Requirement already satisfied: jupyter-server<3,>=2.4.0 in /home/jfu08/PycharmProjects/AnalyzingHyperpartisanDocuments/venv/lib/python3.10/site-packages (from notebook->jupyter->-r ../requirements.txt (line 4)) (2.13.0)\r\n",
      "Requirement already satisfied: jupyterlab-server<3,>=2.22.1 in /home/jfu08/PycharmProjects/AnalyzingHyperpartisanDocuments/venv/lib/python3.10/site-packages (from notebook->jupyter->-r ../requirements.txt (line 4)) (2.25.4)\r\n",
      "Requirement already satisfied: jupyterlab<4.2,>=4.1.1 in /home/jfu08/PycharmProjects/AnalyzingHyperpartisanDocuments/venv/lib/python3.10/site-packages (from notebook->jupyter->-r ../requirements.txt (line 4)) (4.1.5)\r\n",
      "Requirement already satisfied: notebook-shim<0.3,>=0.2 in /home/jfu08/PycharmProjects/AnalyzingHyperpartisanDocuments/venv/lib/python3.10/site-packages (from notebook->jupyter->-r ../requirements.txt (line 4)) (0.2.4)\r\n",
      "Requirement already satisfied: qtpy>=2.4.0 in /home/jfu08/PycharmProjects/AnalyzingHyperpartisanDocuments/venv/lib/python3.10/site-packages (from qtconsole->jupyter->-r ../requirements.txt (line 4)) (2.4.1)\r\n",
      "Requirement already satisfied: charset-normalizer<4,>=2 in /home/jfu08/PycharmProjects/AnalyzingHyperpartisanDocuments/venv/lib/python3.10/site-packages (from requests[socks]->gdown->-r ../requirements.txt (line 5)) (3.3.2)\r\n",
      "Requirement already satisfied: idna<4,>=2.5 in /home/jfu08/PycharmProjects/AnalyzingHyperpartisanDocuments/venv/lib/python3.10/site-packages (from requests[socks]->gdown->-r ../requirements.txt (line 5)) (3.6)\r\n",
      "Requirement already satisfied: urllib3<3,>=1.21.1 in /home/jfu08/PycharmProjects/AnalyzingHyperpartisanDocuments/venv/lib/python3.10/site-packages (from requests[socks]->gdown->-r ../requirements.txt (line 5)) (2.2.1)\r\n",
      "Requirement already satisfied: certifi>=2017.4.17 in /home/jfu08/PycharmProjects/AnalyzingHyperpartisanDocuments/venv/lib/python3.10/site-packages (from requests[socks]->gdown->-r ../requirements.txt (line 5)) (2024.2.2)\r\n",
      "Requirement already satisfied: PySocks!=1.5.7,>=1.5.6 in /home/jfu08/PycharmProjects/AnalyzingHyperpartisanDocuments/venv/lib/python3.10/site-packages (from requests[socks]->gdown->-r ../requirements.txt (line 5)) (1.7.1)\r\n",
      "Requirement already satisfied: six>=1.9.0 in /home/jfu08/PycharmProjects/AnalyzingHyperpartisanDocuments/venv/lib/python3.10/site-packages (from bleach!=5.0.0->nbconvert->jupyter->-r ../requirements.txt (line 4)) (1.16.0)\r\n",
      "Requirement already satisfied: webencodings in /home/jfu08/PycharmProjects/AnalyzingHyperpartisanDocuments/venv/lib/python3.10/site-packages (from bleach!=5.0.0->nbconvert->jupyter->-r ../requirements.txt (line 4)) (0.5.1)\r\n",
      "Requirement already satisfied: decorator in /home/jfu08/PycharmProjects/AnalyzingHyperpartisanDocuments/venv/lib/python3.10/site-packages (from ipython>=7.23.1->ipykernel->jupyter->-r ../requirements.txt (line 4)) (5.1.1)\r\n",
      "Requirement already satisfied: jedi>=0.16 in /home/jfu08/PycharmProjects/AnalyzingHyperpartisanDocuments/venv/lib/python3.10/site-packages (from ipython>=7.23.1->ipykernel->jupyter->-r ../requirements.txt (line 4)) (0.19.1)\r\n",
      "Requirement already satisfied: stack-data in /home/jfu08/PycharmProjects/AnalyzingHyperpartisanDocuments/venv/lib/python3.10/site-packages (from ipython>=7.23.1->ipykernel->jupyter->-r ../requirements.txt (line 4)) (0.6.3)\r\n",
      "Requirement already satisfied: exceptiongroup in /home/jfu08/PycharmProjects/AnalyzingHyperpartisanDocuments/venv/lib/python3.10/site-packages (from ipython>=7.23.1->ipykernel->jupyter->-r ../requirements.txt (line 4)) (1.2.0)\r\n",
      "Requirement already satisfied: typing-extensions in /home/jfu08/PycharmProjects/AnalyzingHyperpartisanDocuments/venv/lib/python3.10/site-packages (from ipython>=7.23.1->ipykernel->jupyter->-r ../requirements.txt (line 4)) (4.10.0)\r\n",
      "Requirement already satisfied: pexpect>4.3 in /home/jfu08/PycharmProjects/AnalyzingHyperpartisanDocuments/venv/lib/python3.10/site-packages (from ipython>=7.23.1->ipykernel->jupyter->-r ../requirements.txt (line 4)) (4.9.0)\r\n",
      "Requirement already satisfied: python-dateutil>=2.8.2 in /home/jfu08/PycharmProjects/AnalyzingHyperpartisanDocuments/venv/lib/python3.10/site-packages (from jupyter-client>=6.1.12->ipykernel->jupyter->-r ../requirements.txt (line 4)) (2.9.0.post0)\r\n",
      "Requirement already satisfied: platformdirs>=2.5 in /home/jfu08/PycharmProjects/AnalyzingHyperpartisanDocuments/venv/lib/python3.10/site-packages (from jupyter-core!=5.0.*,>=4.12->ipykernel->jupyter->-r ../requirements.txt (line 4)) (4.2.0)\r\n",
      "Requirement already satisfied: anyio>=3.1.0 in /home/jfu08/PycharmProjects/AnalyzingHyperpartisanDocuments/venv/lib/python3.10/site-packages (from jupyter-server<3,>=2.4.0->notebook->jupyter->-r ../requirements.txt (line 4)) (4.3.0)\r\n",
      "Requirement already satisfied: argon2-cffi in /home/jfu08/PycharmProjects/AnalyzingHyperpartisanDocuments/venv/lib/python3.10/site-packages (from jupyter-server<3,>=2.4.0->notebook->jupyter->-r ../requirements.txt (line 4)) (23.1.0)\r\n",
      "Requirement already satisfied: jupyter-events>=0.9.0 in /home/jfu08/PycharmProjects/AnalyzingHyperpartisanDocuments/venv/lib/python3.10/site-packages (from jupyter-server<3,>=2.4.0->notebook->jupyter->-r ../requirements.txt (line 4)) (0.10.0)\r\n",
      "Requirement already satisfied: jupyter-server-terminals in /home/jfu08/PycharmProjects/AnalyzingHyperpartisanDocuments/venv/lib/python3.10/site-packages (from jupyter-server<3,>=2.4.0->notebook->jupyter->-r ../requirements.txt (line 4)) (0.5.3)\r\n",
      "Requirement already satisfied: overrides in /home/jfu08/PycharmProjects/AnalyzingHyperpartisanDocuments/venv/lib/python3.10/site-packages (from jupyter-server<3,>=2.4.0->notebook->jupyter->-r ../requirements.txt (line 4)) (7.7.0)\r\n",
      "Requirement already satisfied: prometheus-client in /home/jfu08/PycharmProjects/AnalyzingHyperpartisanDocuments/venv/lib/python3.10/site-packages (from jupyter-server<3,>=2.4.0->notebook->jupyter->-r ../requirements.txt (line 4)) (0.20.0)\r\n",
      "Requirement already satisfied: send2trash>=1.8.2 in /home/jfu08/PycharmProjects/AnalyzingHyperpartisanDocuments/venv/lib/python3.10/site-packages (from jupyter-server<3,>=2.4.0->notebook->jupyter->-r ../requirements.txt (line 4)) (1.8.2)\r\n",
      "Requirement already satisfied: terminado>=0.8.3 in /home/jfu08/PycharmProjects/AnalyzingHyperpartisanDocuments/venv/lib/python3.10/site-packages (from jupyter-server<3,>=2.4.0->notebook->jupyter->-r ../requirements.txt (line 4)) (0.18.1)\r\n",
      "Requirement already satisfied: websocket-client in /home/jfu08/PycharmProjects/AnalyzingHyperpartisanDocuments/venv/lib/python3.10/site-packages (from jupyter-server<3,>=2.4.0->notebook->jupyter->-r ../requirements.txt (line 4)) (1.7.0)\r\n",
      "Requirement already satisfied: async-lru>=1.0.0 in /home/jfu08/PycharmProjects/AnalyzingHyperpartisanDocuments/venv/lib/python3.10/site-packages (from jupyterlab<4.2,>=4.1.1->notebook->jupyter->-r ../requirements.txt (line 4)) (2.0.4)\r\n",
      "Requirement already satisfied: httpx>=0.25.0 in /home/jfu08/PycharmProjects/AnalyzingHyperpartisanDocuments/venv/lib/python3.10/site-packages (from jupyterlab<4.2,>=4.1.1->notebook->jupyter->-r ../requirements.txt (line 4)) (0.27.0)\r\n",
      "Requirement already satisfied: jupyter-lsp>=2.0.0 in /home/jfu08/PycharmProjects/AnalyzingHyperpartisanDocuments/venv/lib/python3.10/site-packages (from jupyterlab<4.2,>=4.1.1->notebook->jupyter->-r ../requirements.txt (line 4)) (2.2.4)\r\n",
      "Requirement already satisfied: tomli in /home/jfu08/PycharmProjects/AnalyzingHyperpartisanDocuments/venv/lib/python3.10/site-packages (from jupyterlab<4.2,>=4.1.1->notebook->jupyter->-r ../requirements.txt (line 4)) (2.0.1)\r\n",
      "Requirement already satisfied: babel>=2.10 in /home/jfu08/PycharmProjects/AnalyzingHyperpartisanDocuments/venv/lib/python3.10/site-packages (from jupyterlab-server<3,>=2.22.1->notebook->jupyter->-r ../requirements.txt (line 4)) (2.14.0)\r\n",
      "Requirement already satisfied: json5>=0.9.0 in /home/jfu08/PycharmProjects/AnalyzingHyperpartisanDocuments/venv/lib/python3.10/site-packages (from jupyterlab-server<3,>=2.22.1->notebook->jupyter->-r ../requirements.txt (line 4)) (0.9.24)\r\n",
      "Requirement already satisfied: jsonschema>=4.18.0 in /home/jfu08/PycharmProjects/AnalyzingHyperpartisanDocuments/venv/lib/python3.10/site-packages (from jupyterlab-server<3,>=2.22.1->notebook->jupyter->-r ../requirements.txt (line 4)) (4.21.1)\r\n",
      "Requirement already satisfied: fastjsonschema>=2.15 in /home/jfu08/PycharmProjects/AnalyzingHyperpartisanDocuments/venv/lib/python3.10/site-packages (from nbformat>=5.7->nbconvert->jupyter->-r ../requirements.txt (line 4)) (2.19.1)\r\n",
      "Requirement already satisfied: wcwidth in /home/jfu08/PycharmProjects/AnalyzingHyperpartisanDocuments/venv/lib/python3.10/site-packages (from prompt-toolkit>=3.0.30->jupyter-console->jupyter->-r ../requirements.txt (line 4)) (0.2.13)\r\n",
      "Requirement already satisfied: sniffio>=1.1 in /home/jfu08/PycharmProjects/AnalyzingHyperpartisanDocuments/venv/lib/python3.10/site-packages (from anyio>=3.1.0->jupyter-server<3,>=2.4.0->notebook->jupyter->-r ../requirements.txt (line 4)) (1.3.1)\r\n",
      "Requirement already satisfied: httpcore==1.* in /home/jfu08/PycharmProjects/AnalyzingHyperpartisanDocuments/venv/lib/python3.10/site-packages (from httpx>=0.25.0->jupyterlab<4.2,>=4.1.1->notebook->jupyter->-r ../requirements.txt (line 4)) (1.0.5)\r\n",
      "Requirement already satisfied: h11<0.15,>=0.13 in /home/jfu08/PycharmProjects/AnalyzingHyperpartisanDocuments/venv/lib/python3.10/site-packages (from httpcore==1.*->httpx>=0.25.0->jupyterlab<4.2,>=4.1.1->notebook->jupyter->-r ../requirements.txt (line 4)) (0.14.0)\r\n",
      "Requirement already satisfied: parso<0.9.0,>=0.8.3 in /home/jfu08/PycharmProjects/AnalyzingHyperpartisanDocuments/venv/lib/python3.10/site-packages (from jedi>=0.16->ipython>=7.23.1->ipykernel->jupyter->-r ../requirements.txt (line 4)) (0.8.3)\r\n",
      "Requirement already satisfied: attrs>=22.2.0 in /home/jfu08/PycharmProjects/AnalyzingHyperpartisanDocuments/venv/lib/python3.10/site-packages (from jsonschema>=4.18.0->jupyterlab-server<3,>=2.22.1->notebook->jupyter->-r ../requirements.txt (line 4)) (23.2.0)\r\n",
      "Requirement already satisfied: jsonschema-specifications>=2023.03.6 in /home/jfu08/PycharmProjects/AnalyzingHyperpartisanDocuments/venv/lib/python3.10/site-packages (from jsonschema>=4.18.0->jupyterlab-server<3,>=2.22.1->notebook->jupyter->-r ../requirements.txt (line 4)) (2023.12.1)\r\n",
      "Requirement already satisfied: referencing>=0.28.4 in /home/jfu08/PycharmProjects/AnalyzingHyperpartisanDocuments/venv/lib/python3.10/site-packages (from jsonschema>=4.18.0->jupyterlab-server<3,>=2.22.1->notebook->jupyter->-r ../requirements.txt (line 4)) (0.34.0)\r\n",
      "Requirement already satisfied: rpds-py>=0.7.1 in /home/jfu08/PycharmProjects/AnalyzingHyperpartisanDocuments/venv/lib/python3.10/site-packages (from jsonschema>=4.18.0->jupyterlab-server<3,>=2.22.1->notebook->jupyter->-r ../requirements.txt (line 4)) (0.18.0)\r\n",
      "Requirement already satisfied: python-json-logger>=2.0.4 in /home/jfu08/PycharmProjects/AnalyzingHyperpartisanDocuments/venv/lib/python3.10/site-packages (from jupyter-events>=0.9.0->jupyter-server<3,>=2.4.0->notebook->jupyter->-r ../requirements.txt (line 4)) (2.0.7)\r\n",
      "Requirement already satisfied: pyyaml>=5.3 in /home/jfu08/PycharmProjects/AnalyzingHyperpartisanDocuments/venv/lib/python3.10/site-packages (from jupyter-events>=0.9.0->jupyter-server<3,>=2.4.0->notebook->jupyter->-r ../requirements.txt (line 4)) (6.0.1)\r\n",
      "Requirement already satisfied: rfc3339-validator in /home/jfu08/PycharmProjects/AnalyzingHyperpartisanDocuments/venv/lib/python3.10/site-packages (from jupyter-events>=0.9.0->jupyter-server<3,>=2.4.0->notebook->jupyter->-r ../requirements.txt (line 4)) (0.1.4)\r\n",
      "Requirement already satisfied: rfc3986-validator>=0.1.1 in /home/jfu08/PycharmProjects/AnalyzingHyperpartisanDocuments/venv/lib/python3.10/site-packages (from jupyter-events>=0.9.0->jupyter-server<3,>=2.4.0->notebook->jupyter->-r ../requirements.txt (line 4)) (0.1.1)\r\n",
      "Requirement already satisfied: ptyprocess>=0.5 in /home/jfu08/PycharmProjects/AnalyzingHyperpartisanDocuments/venv/lib/python3.10/site-packages (from pexpect>4.3->ipython>=7.23.1->ipykernel->jupyter->-r ../requirements.txt (line 4)) (0.7.0)\r\n",
      "Requirement already satisfied: argon2-cffi-bindings in /home/jfu08/PycharmProjects/AnalyzingHyperpartisanDocuments/venv/lib/python3.10/site-packages (from argon2-cffi->jupyter-server<3,>=2.4.0->notebook->jupyter->-r ../requirements.txt (line 4)) (21.2.0)\r\n",
      "Requirement already satisfied: executing>=1.2.0 in /home/jfu08/PycharmProjects/AnalyzingHyperpartisanDocuments/venv/lib/python3.10/site-packages (from stack-data->ipython>=7.23.1->ipykernel->jupyter->-r ../requirements.txt (line 4)) (2.0.1)\r\n",
      "Requirement already satisfied: asttokens>=2.1.0 in /home/jfu08/PycharmProjects/AnalyzingHyperpartisanDocuments/venv/lib/python3.10/site-packages (from stack-data->ipython>=7.23.1->ipykernel->jupyter->-r ../requirements.txt (line 4)) (2.4.1)\r\n",
      "Requirement already satisfied: pure-eval in /home/jfu08/PycharmProjects/AnalyzingHyperpartisanDocuments/venv/lib/python3.10/site-packages (from stack-data->ipython>=7.23.1->ipykernel->jupyter->-r ../requirements.txt (line 4)) (0.2.2)\r\n",
      "Requirement already satisfied: fqdn in /home/jfu08/PycharmProjects/AnalyzingHyperpartisanDocuments/venv/lib/python3.10/site-packages (from jsonschema[format-nongpl]>=4.18.0->jupyter-events>=0.9.0->jupyter-server<3,>=2.4.0->notebook->jupyter->-r ../requirements.txt (line 4)) (1.5.1)\r\n",
      "Requirement already satisfied: isoduration in /home/jfu08/PycharmProjects/AnalyzingHyperpartisanDocuments/venv/lib/python3.10/site-packages (from jsonschema[format-nongpl]>=4.18.0->jupyter-events>=0.9.0->jupyter-server<3,>=2.4.0->notebook->jupyter->-r ../requirements.txt (line 4)) (20.11.0)\r\n",
      "Requirement already satisfied: jsonpointer>1.13 in /home/jfu08/PycharmProjects/AnalyzingHyperpartisanDocuments/venv/lib/python3.10/site-packages (from jsonschema[format-nongpl]>=4.18.0->jupyter-events>=0.9.0->jupyter-server<3,>=2.4.0->notebook->jupyter->-r ../requirements.txt (line 4)) (2.4)\r\n",
      "Requirement already satisfied: uri-template in /home/jfu08/PycharmProjects/AnalyzingHyperpartisanDocuments/venv/lib/python3.10/site-packages (from jsonschema[format-nongpl]>=4.18.0->jupyter-events>=0.9.0->jupyter-server<3,>=2.4.0->notebook->jupyter->-r ../requirements.txt (line 4)) (1.3.0)\r\n",
      "Requirement already satisfied: webcolors>=1.11 in /home/jfu08/PycharmProjects/AnalyzingHyperpartisanDocuments/venv/lib/python3.10/site-packages (from jsonschema[format-nongpl]>=4.18.0->jupyter-events>=0.9.0->jupyter-server<3,>=2.4.0->notebook->jupyter->-r ../requirements.txt (line 4)) (1.13)\r\n",
      "Requirement already satisfied: cffi>=1.0.1 in /home/jfu08/PycharmProjects/AnalyzingHyperpartisanDocuments/venv/lib/python3.10/site-packages (from argon2-cffi-bindings->argon2-cffi->jupyter-server<3,>=2.4.0->notebook->jupyter->-r ../requirements.txt (line 4)) (1.16.0)\r\n",
      "Requirement already satisfied: pycparser in /home/jfu08/PycharmProjects/AnalyzingHyperpartisanDocuments/venv/lib/python3.10/site-packages (from cffi>=1.0.1->argon2-cffi-bindings->argon2-cffi->jupyter-server<3,>=2.4.0->notebook->jupyter->-r ../requirements.txt (line 4)) (2.22)\r\n",
      "Requirement already satisfied: arrow>=0.15.0 in /home/jfu08/PycharmProjects/AnalyzingHyperpartisanDocuments/venv/lib/python3.10/site-packages (from isoduration->jsonschema[format-nongpl]>=4.18.0->jupyter-events>=0.9.0->jupyter-server<3,>=2.4.0->notebook->jupyter->-r ../requirements.txt (line 4)) (1.3.0)\r\n",
      "Requirement already satisfied: types-python-dateutil>=2.8.10 in /home/jfu08/PycharmProjects/AnalyzingHyperpartisanDocuments/venv/lib/python3.10/site-packages (from arrow>=0.15.0->isoduration->jsonschema[format-nongpl]>=4.18.0->jupyter-events>=0.9.0->jupyter-server<3,>=2.4.0->notebook->jupyter->-r ../requirements.txt (line 4)) (2.9.0.20240316)\r\n"
     ]
    }
   ],
   "source": [
    "!pip install -r ../requirements.txt"
   ],
   "metadata": {
    "collapsed": false,
    "ExecuteTime": {
     "end_time": "2024-04-05T10:52:38.950237Z",
     "start_time": "2024-04-05T10:52:37.662199Z"
    }
   },
   "id": "a24e64b979b624ff",
   "execution_count": 3
  },
  {
   "cell_type": "markdown",
   "source": [
    "## 2. Perform Hyperpartisan Documents Analysis "
   ],
   "metadata": {
    "collapsed": false
   },
   "id": "3bf42cc85a2615b9"
  },
  {
   "cell_type": "markdown",
   "source": [
    "### 2.1 Add necessary import statements"
   ],
   "metadata": {
    "collapsed": false
   },
   "id": "da6e8cdd117ac754"
  },
  {
   "cell_type": "code",
   "outputs": [],
   "source": [
    "from src.log_odd_ratios.LogOddRatiosAnalyzer import LogOddRatiosAnalyzer\n",
    "from src.log_odd_ratios.LogOddRatiosCalculator import LogOddRatiosCalculator, TokenType\n",
    "from src.constant_values.enums import DocumentType\n",
    "from src.get_hyperpartisan_data.HyperpartisanDocumentsFormatter import HyperpartisanDocumentsFormatter\n",
    "from src.get_hyperpartisan_data.HyperpartisanDocumentsProcessor import HyperpartisanDocumentsProcessor\n",
    "from src.utils import console_output_formatter"
   ],
   "metadata": {
    "collapsed": false,
    "ExecuteTime": {
     "end_time": "2024-04-05T11:27:00.292451Z",
     "start_time": "2024-04-05T11:26:59.931567Z"
    }
   },
   "id": "f05a50263e1a8c3f",
   "execution_count": 4
  },
  {
   "cell_type": "markdown",
   "source": [
    "### 2.2. Adapt hyperpartisan documents format into text files"
   ],
   "metadata": {
    "collapsed": false
   },
   "id": "6d539f9c6c8ee3af"
  },
  {
   "cell_type": "code",
   "execution_count": 5,
   "id": "initial_id",
   "metadata": {
    "collapsed": true,
    "ExecuteTime": {
     "end_time": "2024-04-05T10:58:08.534489Z",
     "start_time": "2024-04-05T10:57:33.925948Z"
    }
   },
   "outputs": [
    {
     "name": "stdout",
     "output_type": "stream",
     "text": [
      "###########################\n",
      "#                         #\n",
      "#     DATA FORMATTING     #\n",
      "#                         #\n",
      "###########################\n",
      "\n",
      "Extracting XML data from zip files ...\n",
      "Extracting file articles-validation-bypublisher-20181122.zip ...\n",
      "File articles-validation-bypublisher-20181122.zip extracted\n",
      "Extracting file ground-truth-validation-bypublisher-20181122.zip ...\n",
      "File ground-truth-validation-bypublisher-20181122.zip extracted\n"
     ]
    },
    {
     "name": "stderr",
     "output_type": "stream",
     "text": [
      "Getting ground truth values ...: 100%|██████████| 150000/150000 [00:00<00:00, 281905.20it/s]\n",
      "Extracting text from articles ...: 100%|██████████| 150000/150000 [00:24<00:00, 6011.95it/s]"
     ]
    },
    {
     "name": "stdout",
     "output_type": "stream",
     "text": []
    },
    {
     "name": "stderr",
     "output_type": "stream",
     "text": [
      "\n"
     ]
    }
   ],
   "source": [
    "console_output_formatter.print_section_header(section_header='Data formatting')\n",
    "hyperpartisan_documents_formatter = HyperpartisanDocumentsFormatter()\n",
    "hyperpartisan_documents_formatter.adapt_dataset_format()"
   ]
  },
  {
   "cell_type": "markdown",
   "source": [
    "### 2.3. Process hyperpartisan documents (if necessary) and load"
   ],
   "metadata": {
    "collapsed": false
   },
   "id": "7ca333e482f5a2ad"
  },
  {
   "cell_type": "code",
   "outputs": [
    {
     "name": "stdout",
     "output_type": "stream",
     "text": [
      "########################################\n",
      "#                                      #\n",
      "#     DATA LOADING / PREPROCESSING     #\n",
      "#                                      #\n",
      "########################################\n",
      "\n",
      "The HYPERPARTISAN document list already exists. Loading it from pickle file ...\n",
      "Clean document list (HYPERPARTISAN) loaded successfully. \n",
      "\n",
      "DOCUMENT LIST STATISTICS (HYPERPARTISAN):\n",
      "Number of documents: 75000\n",
      "Document sample after performing preprocessing:\n",
      "['pro-life', 'students', 'wilfrid', 'laurier', 'university', 'say', 'longer', 'able', 'put', 'pro-life', 'flag', 'display', ',', 'campus', 'leaders', 'explaining', 'exhibits', 'traumatic', 'one', 'last', 'fall', 'caused', 'uproar', 'canadian', 'campus', '.', 'display', 'used', '10,000', 'pink', 'blue', 'flags', 'represent', '100,000', 'abortions', 'year', 'canada', '.', 'student', 'union', 'president', 'tyler', 'van', 'herzele', ',', 'letter', 'shared', 'campuswide', ',', 'stated', '“', 'visceral', 'nature', 'display', 'interfered', 'ability', 'members', 'laurier', 'community', 'safely', 'attend', 'class', ',', 'travel', 'work', 'remain', 'campus', 'study.', '”', '“', 'adversarial', 'tone', 'event', 'evoked', 'confrontation', 'eliminated', 'possibility', 'respectful', 'dialogue', 'created', 'unsafe', 'environment', 'students.', '”', 'according', 'december', '2016', 'letter', ',', 'several', 'offices', ',', 'including', 'diversity', 'equity', 'office', ',', 'worked', 'together', '“', 'ensure', 'happen', 'again.', '”', 'email', 'college', 'fix', 'month', ',', 'campus', 'spokesman', 'kevin', 'crowley', 'echoed', 'sentiments', '.', 'noted', 'university', '“', 'firmly', 'upholds', 'principles', 'free', 'speech', 'strives', 'provide', 'environment', 'protects', 'right', 'people', 'engage', 'critical', 'respectful', 'dialogue.', '”', ',', 'added', ',', '“', 'must', ',', 'however', ',', 'balance', 'exercise', 'free', 'speech', 'need', 'support', 'individuals', 'may', 'experienced', 'harm', 'related', 'specific', 'topic', 'discussed.', '”', 'display', 'question', 'project', 'school', '’', 'lifelink', 'group', '.', 'set', 'october', 'quad', ',', 'approval', 'student', 'union', '.', 'earlier', 'month', ',', 'christine', 'schuknecht', ',', 'student', 'university', '’', 'waterloo', 'campus', 'member', 'lifelink', ',', 'wrote', 'national', 'post', 'led', 'display', 'banned', '.', 'flags', 'several', 'hours', ',', 'students', 'university', 'employees', 'took', 'action', ',', 'according', 'schuknect', '.', 'diversity', 'equity', 'office', 'placed', 'sign', 'display', 'reading', '“', 'warning', ':', 'anti-choice', 'display', 'ahead.', '”', 'special', 'constable', 'services', 'called', 'students', 'vandalized', 'flags', 'club', 'banner', 'yelled', 'lifelink', 'members', '.', 'constables', 'see', 'issue', 'display', 'commended', 'members', ',', 'wrote', '.', 'schuknect', 'explains', '“', 'dumbfounded.', '”', 'diversity', 'equity', 'office', ',', 'wrote', ',', 'supposed', '“', 'non-partisan', ',', '”', 'used', '“', 'anti-choice', '”', 'describe', 'club', '.', '“', 'deo', 'hangs', 'posters', 'across', 'campus', 'insisting', 'students', 'use', '‘', 'proper', 'terms', '’', 'addressing', 'groups', 'explicitly', 'supports', ',', 'went', 'way', 'apply', 'negatively', 'torqued', 'label', ',', '”', 'schuknect', 'wrote', '.', 'jonah', 'vanleeuwen', ',', 'group', '’', 'vice-president', ',', 'echoed', 'sentiments', 'surprise', 'disappointment', '.', '“', 'disappointed', 'see', 'despite', 'efforts', 'stay', 'peaceful', 'reserved', ',', 'group', 'using', 'violent', 'tactics', 'raised', 'pedestal', ',', '”', 'said', 'email', 'college', 'fix', '.', 'students', 'spoke', 'display', 'ways', '.', 'cord', ',', 'campus', 'newspaper', ',', 'published', '“', 'anti-abortion', 'demonstration', 'quad', ',', '”', 'wrote', 'university', '“', 'surprised', '”', 'see', 'flags', '.', 'article', 'included', 'statements', 'daniel', 'quintia', ',', 'third-year', 'student', 'admitted', 'pulling', 'flags', ',', 'saying', '“', 'frankly', 'kind', 'pissed.', '”', 'diversity', 'equity', 'office', 'referred', 'college', 'fix', 'student', 'union', 'emailed', 'comment', '.', 'van', 'herzele', 'failed', 'respond', 'emails', 'phone', 'calls', 'fix', '.', ':', '&', '#', '160', ';', 'washington', 'state', 'student', 'tears', 'pro-life', 'display', '‘', 'really', 'made', 'angry', '’', ':', 'student', 'pro-life', 'display', 'casually', 'vandalized', 'broad', 'daylight', 'cu-boulder', 'like', 'college', 'fix', 'facebook', '/', 'follow', 'us', 'twitter'] \n",
      "\n",
      "\n",
      "The NON-HYPERPARTISAN document list already exists. Loading it from pickle file ...\n",
      "Clean document list (NON-HYPERPARTISAN) loaded successfully. \n",
      "\n",
      "DOCUMENT LIST STATISTICS (NON-HYPERPARTISAN):\n",
      "Number of documents: 75000\n",
      "Document sample after performing preprocessing:\n",
      "['chief', 'juvenile', 'probation', 'officer', 'gwendolyn', 'tucker', ',', 'charge', 'city', 'department', 'incarcerates', 'attempts', 'rehabilitate', 'thousands', 'children', 'accused', 'committing', 'crimes', ',', 'facing', 'flood', 'criticism', 'youth', 'advocates', ',', 'staff', 'juvenile', 'probation', 'commissioners', 'considering', 'whether', 'fire', '.', 'juvenile', 'probation', 'commission', 'held', 'emergency', 'meeting', 'monday', 'lasted', 'long', 'night', 'reconvening', 'today', 'discuss', 'tucker', \"'s\", 'fate', '.', 'tucker', ',', 'promoted', 'assistant', 'chief', 'last', 'summer', 'then-', 'chief', 'jesse', 'williams', 'quit', ',', 'accused', 'ignoring', 'gas', 'leaks', 'fire', 'hazards', 'log', 'cabin', 'ranch', 'boys', ',', 'working', 'hard', 'enough', 'send', 'youths', 'community', 'rehabilitation', 'programs', 'rather', 'juvenile', 'hall', 'lockup', ',', 'clashing', 'staff', '.', 'tucker', 'publicly', 'answered', 'accusers', 'referred', 'questions', ',', 'including', 'past', 'present', 'gas', 'leaks', 'operational', 'issues', ',', 'private', 'attorney', ',', 'gregg', 'adam', '.', 'adam', 'said', 'tucker', 'meet', 'behind', 'closed', 'doors', 'commissioners', 'sometime', 'today', \"'s\", 'meeting', '.', '``', 'respond', 'commission', ',', \"''\", 'adam', 'said', '.', '``', \"'s\", 'appropriate', 'respond', 'publicly', '.', \"''\", 'possible', 'shakeup', 'juvenile', 'probation', 'department', 'one', 'controversy', 'department', 'struggled', 'youth', 'advocates', 'say', 'one', 'highest', 'incarceration', 'rates', 'state', '.', 'two', 'major', 'reform', 'efforts', 'since', '1996', 'reduce', 'number', 'minors', 'lockup', 'sending', 'low-risk', 'offenders', 'community', 'programs', '.', 'watchdogs', 'said', 'efforts', 'made', 'little', 'impact', '.', '``', 'takes', 'dedicated', ',', 'willful', 'leadership', ',', 'kind', 'leadership', 'might', 'find', 'outside', 'san', 'francisco', ',', \"''\", 'said', 'andrea', 'shorter', ',', 'deputy', 'executive', 'director', 'center', 'juvenile', 'criminal', 'justice', ',', 'think', 'tank', 'lobbying', 'group', 'advocates', 'rehabilitation', 'programs', 'rather', 'incarceration', '.', 'year', 'ago', ',', 'juvenile', 'probation', 'department', 'adopted', 'new', 'intake', 'questionnaire', 'meant', 'help', 'probation', 'officers', 'determine', 'whether', 'recently', 'arrested', 'children', 'locked', 'awaiting', 'court', 'date', 'released', 'community', 'program', '.', 'kids', 'graded', 'according', 'severity', 'alleged', 'crime', ',', 'history', 'flight', 'risk', '.', 'ntanya', 'lee', 'coleman', 'advocates', 'children', 'youth', 'said', '93', 'percent', 'arrested', 'juveniles', 'incarcerated', 'new', 'intake', 'procedure', 'adopted', '.', 'year', 'later', ',', 'said', ',', 'kids', 'considered', 'low', 'risk', 'still', 'locked', 'probation', 'officers', 'ignoring', 'new', 'system', '.', 'lee', 'said', 'mayor', 'gavin', 'newsom', 'made', 'campaign', 'promise', 'appoint', 'new', 'chief', ',', 'still', 'waiting', '.', 'mayor', 'slowly', 'replacing', 'department', 'heads', 'since', 'took', 'office', 'seven', 'months', 'ago', '.', 'juvenile', 'probation', 'commission', 'might', 'move', 'ahead', 'without', '.', 'monday', \"'s\", 'commission', 'meeting', ',', 'lee', 'joined', 'watchdogs', 'employees', 'testified', 'tucker', \"'s\", 'job', 'performance', '.', 'tucker', \"'s\", 'supporters', 'included', 'director', 'special', 'programs', 'youth', ',', 'declined', 'interviewed', 'later', '.', 'mercedes', 'hernandez-bran', ',', 'department', \"'s\", 'human', 'resources', 'director', ',', 'told', 'commission', 'since', 'december', 'tried', 'alert', 'tucker', 'staff', 'gas', 'leaks', 'fires', 'kitchen', 'laundry', 'room', 'log', 'cabin', 'ranch', ',', 'residential', 'program', 'la', 'honda', '.', 'hernandez-bran', 'alleged', 'warnings', 'pushed', 'aside', '.', 'longtime', 'cook', 'jeff', 'hatton', ',', \"n't\", 'attend', 'meeting', ',', 'told', 'chronicle', 'always', 'smells', 'gas', 'leak', 'last', 'week', 'resulted', 'small', 'fire', '.', 'la', 'honda', 'volunteer', 'fire', 'chief', 'larry', 'whitney', 'said', 'crew', 'responded', 'six', 'calls', 'ranch', 'since', 'november', ',', 'one', 'incident', 'included', 'gas', 'leak', 'administration', 'building', '.', 'said', 'although', 'calls', 'usual', ',', 'none', 'incidents', 'significant', '.', 'meanwhile', ',', 'tucker', 'attorney', 'awaiting', 'commission', \"'s\", 'next', 'move', '.', 'adam', 'said', 'argue', 'labor', 'laws', 'peace', 'officers', 'afford', 'right', 'appeal', 'dismissal', ',', \"'s\", 'coming', '.'] \n"
     ]
    }
   ],
   "source": [
    "console_output_formatter.print_section_header(section_header='Data loading / preprocessing')\n",
    "hyperpartisan_documents_processor = HyperpartisanDocumentsProcessor()\n",
    "\n",
    "hyperpartisan_document_list = hyperpartisan_documents_processor.get_clean_documents(\n",
    "    document_type=DocumentType.HYPERPARTISAN\n",
    ")\n",
    "console_output_formatter.print_document_list_stats(\n",
    "    document_list=hyperpartisan_document_list,\n",
    "    document_type=DocumentType.HYPERPARTISAN\n",
    ")\n",
    "\n",
    "non_hyperpartisan_document_list = hyperpartisan_documents_processor.get_clean_documents(\n",
    "    document_type=DocumentType.NON_HYPERPARTISAN\n",
    ")\n",
    "console_output_formatter.print_document_list_stats(\n",
    "    document_list=non_hyperpartisan_document_list,\n",
    "    document_type=DocumentType.NON_HYPERPARTISAN\n",
    ")"
   ],
   "metadata": {
    "collapsed": false,
    "ExecuteTime": {
     "end_time": "2024-04-05T11:17:09.074645Z",
     "start_time": "2024-04-05T11:17:01.547350Z"
    }
   },
   "id": "8a7357046fa1e25e",
   "execution_count": 6
  },
  {
   "cell_type": "markdown",
   "source": [
    "### 2.4. Remove infrequent words (log-odd ratio is sensitive to them)"
   ],
   "metadata": {
    "collapsed": false
   },
   "id": "bf1682d83d681a2e"
  },
  {
   "cell_type": "code",
   "outputs": [
    {
     "name": "stdout",
     "output_type": "stream",
     "text": [
      "Calculating unigrams frequency for the whole corpus ...\n",
      "Unigrams frequency calculated successfully. \n",
      "\n",
      "Removing infrequent words from the corpus ...\n",
      "Infrequent words removed successfully. \n"
     ]
    }
   ],
   "source": [
    "hyperpartisan_document_list, non_hyperpartisan_document_list = (hyperpartisan_documents_processor.\n",
    "    remove_infrequent_words(\n",
    "        hyperpartisan_documents=hyperpartisan_document_list,\n",
    "        non_hyperpartisan_documents=non_hyperpartisan_document_list\n",
    "    )\n",
    ")"
   ],
   "metadata": {
    "collapsed": false,
    "ExecuteTime": {
     "end_time": "2024-04-05T11:17:36.355315Z",
     "start_time": "2024-04-05T11:17:13.287889Z"
    }
   },
   "id": "95c84fdd62ba6cb",
   "execution_count": 7
  },
  {
   "cell_type": "markdown",
   "source": [
    "### 2.5. Calculate log-odd ratios"
   ],
   "metadata": {
    "collapsed": false
   },
   "id": "e133d47d1cd06663"
  },
  {
   "cell_type": "markdown",
   "source": [
    "#### 2.5.1. Calculate on `UNIGRAMS`"
   ],
   "metadata": {
    "collapsed": false
   },
   "id": "93c74484f896f41e"
  },
  {
   "cell_type": "code",
   "outputs": [
    {
     "name": "stdout",
     "output_type": "stream",
     "text": [
      "####################################################\n",
      "#                                                  #\n",
      "#     LOG-ODD RATIOS CALCULATION (ON UNIGRAMS)     #\n",
      "#                                                  #\n",
      "####################################################\n"
     ]
    },
    {
     "name": "stderr",
     "output_type": "stream",
     "text": [
      "Calculating unigrams frequency for HYPERPARTISAN ...: 100%|██████████| 75000/75000 [00:06<00:00, 12182.48it/s]\n",
      "Calculating unigrams frequency for NON-HYPERPARTISAN ...: 100%|██████████| 75000/75000 [00:10<00:00, 7410.57it/s]\n"
     ]
    },
    {
     "name": "stdout",
     "output_type": "stream",
     "text": [
      "\n",
      "Calculating o values for HYPERPARTISAN ...\n",
      "o values calculated successfully.\n",
      "Highest values: {',': 0.07904558812222764, '.': 0.05905167566126709, '’': 0.017834360472030117, ';': 0.010282649671985545, '”': 0.009157323635250748, '“': 0.0091371932147936, '&': 0.008775418331800382, '#': 0.008418050626064075, '160': 0.008213163032176257, \"'s\": 0.006635610382607333, ':': 0.006315486901737, \"''\": 0.004601259868295875, ')': 0.004290455344636663, '(': 0.004171680981721613, '``': 0.004038930885589468, 'people': 0.0035832291148293633, '?': 0.0035464001595223124, 'would': 0.003481079941100117, 'one': 0.003438485628349947, 'trump': 0.0033961246759758932} ... \n",
      "\n",
      "Calculating o values for NON-HYPERPARTISAN ...\n",
      "o values calculated successfully.\n",
      "Highest values: {',': 0.07733586360719497, '.': 0.0575189046097237, '’': 0.018772515090338244, ';': 0.01231004804516985, '&': 0.010770717754870098, '#': 0.010621687172105558, '160': 0.010550057423716536, ':': 0.007379839242451155, '“': 0.007092393923448603, '”': 0.007022978551785377, ')': 0.00474326302337323, '(': 0.004657798952314943, 'would': 0.0037745680863692553, 'one': 0.0035444432459048035, 'said': 0.00330193999373926, \"'s\": 0.0031829923915563875, '?': 0.002821582368864001, '``': 0.0028024361474838326, \"''\": 0.0027572707855005175, 'new': 0.0026154377739706345} ... \n",
      "\n",
      "\n",
      "Calculating log-odd ratios ...\n",
      "Log-odd ratios calculated successfully.\n",
      "Saving log-odd ratios into a pickle file ...\n",
      "Pickle file saved. \n"
     ]
    }
   ],
   "source": [
    "console_output_formatter.print_section_header(section_header='Log-odd ratios calculation (on unigrams)')\n",
    "log_odd_ratios_calculator = LogOddRatiosCalculator(\n",
    "    hyperpartisan_documents=hyperpartisan_document_list,\n",
    "    non_hyperpartisan_documents=non_hyperpartisan_document_list,\n",
    "    token_type=TokenType.UNIGRAM\n",
    ")\n",
    "\n",
    "log_odd_ratios_calculator.calculate_log_odd_ratios()"
   ],
   "metadata": {
    "collapsed": false,
    "ExecuteTime": {
     "end_time": "2024-04-05T11:18:05.856482Z",
     "start_time": "2024-04-05T11:17:49.194881Z"
    }
   },
   "id": "1af600cb14956991",
   "execution_count": 8
  },
  {
   "cell_type": "markdown",
   "source": [
    "#### 2.5.2. Calculate on `BIGRAMS`"
   ],
   "metadata": {
    "collapsed": false
   },
   "id": "47edaa7d2fd2289d"
  },
  {
   "cell_type": "code",
   "outputs": [
    {
     "name": "stdout",
     "output_type": "stream",
     "text": [
      "###################################################\n",
      "#                                                 #\n",
      "#     LOG-ODD RATIOS CALCULATION (ON BIGRAMS)     #\n",
      "#                                                 #\n",
      "###################################################\n"
     ]
    },
    {
     "name": "stderr",
     "output_type": "stream",
     "text": [
      "Calculating bigrams frequency for HYPERPARTISAN ...: 100%|██████████| 75000/75000 [00:28<00:00, 2668.83it/s]\n",
      "Calculating bigrams frequency for NON-HYPERPARTISAN ...: 100%|██████████| 75000/75000 [00:59<00:00, 1254.03it/s]\n"
     ]
    },
    {
     "name": "stdout",
     "output_type": "stream",
     "text": [
      "\n",
      "Calculating o values for HYPERPARTISAN ...\n",
      "o values calculated successfully.\n",
      "Highest values: {('#', '160'): 0.008207190205724578, ('&', '#'): 0.00820713221746512, ('160', ';'): 0.00820713221746512, ('.', '’'): 0.002100346182670835, (',', '”'): 0.0019771636865404305, (',', '’'): 0.0018951256541697179, ('.', '“'): 0.0017713638492958578, ('.', \"''\"): 0.0014065261258350292, (',', '“'): 0.0012648976549313271, ('.', '``'): 0.0011852349477046455, (',', \"''\"): 0.001079142535134596, ('.', ','): 0.000984561713714705, (';', '&'): 0.0009715578911369213, ('.', \"'s\"): 0.0009260614611197653, (',', ','): 0.0008269952913596135, ('united', 'states'): 0.000720864523626125, (')', ','): 0.0007113809853931122, ('.', '&'): 0.0007063536404343701, (')', '.'): 0.0006886155143177224, ('said', '.'): 0.0006643658569952778} ... \n",
      "\n",
      "Calculating o values for NON-HYPERPARTISAN ...\n",
      "o values calculated successfully.\n",
      "Highest values: {('&', '#'): 0.010543000855111064, ('#', '160'): 0.010543000855111064, ('160', ';'): 0.010543000855111064, ('united', 'states'): 0.0019144677464473668, ('.', '’'): 0.0019107621931039663, (';', '&'): 0.0018193733034120782, (',', '’'): 0.0016455303904380264, (',', '”'): 0.0016154465644066566, ('.', '“'): 0.0015252606474666795, ('.', '``'): 0.001107651189108016, ('.', \"''\"): 0.001028799393037847, ('.', ','): 0.0010214378533502557, (',', \"''\"): 0.0008967818831422151, (')', '.'): 0.0008918997614162679, ('.', '&'): 0.0008830829159892936, (',', '“'): 0.0008365784485620185, (',', ','): 0.0007700261064200356, (')', ','): 0.0007313992089780708, ('said', '.'): 0.0007165028807149903, ('.', ':'): 0.0007061776909174143} ... \n",
      "\n",
      "Calculating log-odd ratios ...\n",
      "Log-odd ratios calculated successfully.\n",
      "Saving log-odd ratios into a pickle file ...\n",
      "Pickle file saved. \n"
     ]
    }
   ],
   "source": [
    "console_output_formatter.print_section_header(section_header='Log-odd ratios calculation (on bigrams)')\n",
    "log_odd_ratios_calculator = LogOddRatiosCalculator(\n",
    "    hyperpartisan_documents=hyperpartisan_document_list,\n",
    "    non_hyperpartisan_documents=non_hyperpartisan_document_list,\n",
    "    token_type=TokenType.BIGRAM\n",
    ")\n",
    "\n",
    "log_odd_ratios_calculator.calculate_log_odd_ratios()"
   ],
   "metadata": {
    "collapsed": false,
    "ExecuteTime": {
     "end_time": "2024-04-05T11:21:00.653922Z",
     "start_time": "2024-04-05T11:18:28.357951Z"
    }
   },
   "id": "a6ce3689503af028",
   "execution_count": 9
  },
  {
   "cell_type": "markdown",
   "source": [
    "### 2.6. Get most relevant words for each document group"
   ],
   "metadata": {
    "collapsed": false
   },
   "id": "310bcdfb7d3cea79"
  },
  {
   "cell_type": "markdown",
   "source": [
    "#### 2.6.1. Most relevant words (on `UNIGRAMS`)"
   ],
   "metadata": {
    "collapsed": false
   },
   "id": "ecd79f75afa599d4"
  },
  {
   "cell_type": "code",
   "outputs": [
    {
     "name": "stdout",
     "output_type": "stream",
     "text": [
      "########################################################\n",
      "#                                                      #\n",
      "#     MOST RELEVANT WORDS EXTRACTION (ON UNIGRAMS)     #\n",
      "#                                                      #\n",
      "########################################################\n",
      "\n",
      "Loading log-odd ratios for unigrams from pickle file ...\n",
      "Log-odd ratios loaded successfully. \n",
      "\n",
      "Obtaining top 50 most relevant unigrams for HYPERPARTISAN:\n",
      "{'wwc': inf, 'arrigoni': inf, 'bernays': inf, 'doesn�t': inf, 'hierzulande': inf, 'non-capitalist': inf, 'lannisters': inf, 'trusto': inf, \"qur'an\": inf, 'trumper': inf, 'lower-third': inf, 'self-authored': inf, 'bieten': inf, 'gender-affirming': inf, 'editrix': inf, '//twitter.com/chuckcjohnson/status/506397004038017024': inf, 'tsuburaya': inf, 'economy/finance/crypto': inf, 'shaftan': inf, 'aric': inf, 'wurden': inf, 'δεν': inf, 'daario': inf, '2c350': inf, 'kaili': inf, 'c4ss': inf, '�': inf, 'hudes': inf, 'tgp': inf, 'burgos': inf, 'khazar': inf, 'ed.note': inf, 'stojcevski': inf, '2c493': inf, 'okasha': inf, 'wlezien': inf, 'tyrion': inf, 'к': inf, 'cenac': inf, 'tig': inf, 'lieutenant-governor': inf, 'eurangloland': inf, 'neurodiversity': inf, 'moadamiyah': inf, 'brekhus': inf, 'winkt': inf, 'στις': inf, 'fieldworkers': inf, 'einem': inf, '//twitter.com/shady_may/status/507038069548392448': inf} \n",
      "\n",
      "Obtaining top 50 most relevant unigrams for HYPERPARTISAN (without infinite values):\n",
      "{'unbossed': 3.4563675791809687, 'unbought': 3.4562881493123636, 'aligncenter': 3.3252197633561584, 'politicus': 3.092501230329995, '//twitter.com/': 2.9409921206907033, 'discourteous': 2.827474606908557, 'και': 2.7457459228094123, 'earhardt': 2.6503615626076185, 'pinkney': 2.6364256731730684, 'brimelow': 2.6284858200426795, 'size-full': 2.6146489755545135, 'wesearchr': 2.589967925072556, 'nilsen': 2.4579665287636185, 'proudhon': 2.43356141828317, 'brith': 2.415623316479282, 'την': 2.41035905171117, 'shillman': 2.407702795679554, 'anderen': 2.329053765173289, 'ellmers': 2.3160887384574576, 'voxcare': 2.302726305100114, 'huey-burns': 2.295885278041986, 'verizon.net': 2.288936393310933, 'presstitutes': 2.274695904644876, 'ant-man': 2.274695904644876, 'wonkers': 2.271061607601922, 'percentage.': 2.2673966411276556, 'yahoo.co.uk': 2.248593015365654, 'vre': 2.236907219876885, 'stannis': 2.2329410202714266, 'zwicker': 2.2248982752402995, 'maccallum': 2.218082898728804, 'easley': 2.2083732301293946, 'daenerys': 2.20411460737773, 'showrunners': 2.199835797010601, 'www.amazon.com': 2.1822861079427893, 'hasbara': 2.1686421901126858, 'johnstone': 2.1686421901126858, 'vdare': 2.1639972726790715, 'soulcycle': 2.154555691670528, 'anti-lgbtq': 2.147338416900216, 'wonkette': 2.128829743229156, 'aliases': 2.1176758056948195, 'tensing': 2.1093280402425094, 'vanderwerff': 2.0986051332065587, 'fid': 2.0820048510920417, 'westworld': 2.0734619863529424, 'size-medium': 2.0588369364886363, 'the–': 2.046772400311567, 'linky': 2.046772400311567, 'allergan': 2.046772400311567} \n",
      "\n",
      "\n",
      "Obtaining top 50 most relevant unigrams for NON-HYPERPARTISAN:\n",
      "{'kepple': -inf, '1504': -inf, 'tribune-herald': -inf, 'choices—play': -inf, 'china-india': -inf, 'bashneft': -inf, 'ahmadinejadâ€™s': -inf, 'mirotic': -inf, 'polimom': -inf, 'www.shutterstock.com': -inf, 'you—when': -inf, 'dokubo': -inf, 'beijing-built': -inf, 'texas-pan': -inf, 'telcos': -inf, 'mclear': -inf, 'g-10': -inf, 'gwadar': -inf, 'vajiralongkorn': -inf, 'kyosuke': -inf, 'yournewswire.com': -inf, 'liabilities.': -inf, 'billion—well': -inf, 'kunkel': -inf, '194b': -inf, 'naishtat': -inf, 'habibie': -inf, 'spaw': -inf, 'crimmins': -inf, 'galien': -inf, 'hamzawy': -inf, 'dtsc': -inf, 'ppps': -inf, 'kacal': -inf, 'gerston': -inf, 'smeets': -inf, 'pvn': -inf, 'kernighan': -inf, 'sutro': -inf, 'chouan': -inf, 'uia': -inf, 'a.f.c': -inf, 'iraq\\x92s': -inf, 'uber-blogger': -inf, 'r-richmond': -inf, 'steidel': -inf, 'non-reserve': -inf, 'islah': -inf, 'namfrel': -inf, 'sarfatti': -inf} \n",
      "\n",
      "Obtaining top 50 most relevant unigrams for NON-HYPERPARTISAN (without infinite values):\n",
      "{'rmb': -2.9851263931253635, 'y/y': -2.925071163497722, 'mallaby': -2.7803854150220912, 'kano': -2.554999648743232, 'hegar': -2.554999648743232, 'mikkelson': -2.5386452494726868, 'ansaru': -2.506058765101929, 'prayuth': -2.5008471213947727, 'u.s.-india': -2.4672482721383426, 'multistakeholder': -2.465355902665796, 'piekos': -2.4567366945884705, 'thaksin': -2.4416530993048395, 'lockyer': -2.396666652930934, 'and—and': -2.3842734052803642, 'recapitalization': -2.365591065954077, 'u.s.-japan': -2.364996951880512, 'seliger': -2.348557616091612, '50b': -2.3096393131391526, 'gordhan': -2.3014189355080594, 'washpost.com': -2.2972520964798617, 'cigarroa': -2.291627607630234, 'enviros': -2.2703720475645213, '500b': -2.2698719651404975, 'futenma': -2.2653869327564378, 'sanusi': -2.2608550994367445, 'malewitz': -2.2578073905599476, 'i—i': -2.2374582387211843, 'steil': -2.222790168089986, 'naypyidaw': -2.2144219606145743, 'muni': -2.2093225302110424, 'shekau': -2.197781116111357, 'hhsc': -2.191878560955928, 'inflows': -2.191175622755142, 'vogelstein': -2.181065644289374, 'euro.': -2.177400674408191, 'markovich': -2.1746333461968463, 'haass': -2.173535390282982, 'anticorruption': -2.1704498298651993, 'dollar/': -2.1585970316116043, 'ura': -2.154736595003592, 'ramaphosa': -2.143945114144323, 'the—the': -2.1419494919241284, 'putte': -2.138945651549734, '60b': -2.132868093236919, 'komeito': -2.1267077608399445, 'abuja': -2.121165700110968, 'off-mike': -2.1204587878707883, 'in—in': -2.1055183827961637, 'lynx': -2.103662476131369, 'tohoku': -2.1033414556445056}\n"
     ]
    }
   ],
   "source": [
    "console_output_formatter.print_section_header(section_header='Most relevant words extraction (on unigrams)')\n",
    "log_odd_ratios_analyzer = LogOddRatiosAnalyzer(token_type=TokenType.UNIGRAM)\n",
    "\n",
    "hyperpartisan_most_relevant_words_on_unigrams = (log_odd_ratios_analyzer.get_most_relevant_words(document_type=DocumentType.HYPERPARTISAN))\n",
    "print(f'{hyperpartisan_most_relevant_words_on_unigrams} \\n')\n",
    "hyperpartisan_most_relevant_words_not_inf_on_unigrams = (log_odd_ratios_analyzer.\n",
    "    get_most_relevant_words(\n",
    "        document_type=DocumentType.HYPERPARTISAN,\n",
    "        infinite_values=False\n",
    "    )\n",
    ")\n",
    "print(f'{hyperpartisan_most_relevant_words_not_inf_on_unigrams} \\n\\n')\n",
    "\n",
    "non_hyperpartisan_most_relevant_words_on_unigrams = (log_odd_ratios_analyzer.get_most_relevant_words(document_type=DocumentType.NON_HYPERPARTISAN))\n",
    "print(f'{non_hyperpartisan_most_relevant_words_on_unigrams} \\n')\n",
    "non_hyperpartisan_most_relevant_words_not_inf_on_unigrams = (log_odd_ratios_analyzer.\n",
    "    get_most_relevant_words(\n",
    "        document_type=DocumentType.NON_HYPERPARTISAN,\n",
    "        infinite_values=False\n",
    "    )\n",
    ")\n",
    "print(non_hyperpartisan_most_relevant_words_not_inf_on_unigrams)"
   ],
   "metadata": {
    "collapsed": false,
    "ExecuteTime": {
     "end_time": "2024-04-05T11:27:10.249471Z",
     "start_time": "2024-04-05T11:27:09.933663Z"
    }
   },
   "id": "b1956f6e9f479358",
   "execution_count": 10
  },
  {
   "cell_type": "markdown",
   "source": [
    "#### 2.6.2. Most relevant words (on `BIGRAMS`)"
   ],
   "metadata": {
    "collapsed": false
   },
   "id": "1d48178513dc34de"
  },
  {
   "cell_type": "code",
   "outputs": [
    {
     "name": "stdout",
     "output_type": "stream",
     "text": [
      "#######################################################\n",
      "#                                                     #\n",
      "#     MOST RELEVANT WORDS EXTRACTION (ON BIGRAMS)     #\n",
      "#                                                     #\n",
      "#######################################################\n",
      "\n",
      "Loading log-odd ratios for bigrams from pickle file ...\n",
      "Log-odd ratios loaded successfully. \n",
      "\n",
      "Obtaining top 50 most relevant bigrams for HYPERPARTISAN:\n",
      "{('incitements', 'assassination'): inf, ('delaware', 'violent'): inf, ('incapacitating', 'aggressors'): inf, ('budget', 'brinkmanship'): inf, ('thrown', 'light'): inf, ('game', 'stereo'): inf, ('sense', 'murdered'): inf, ('word', 'hurricane'): inf, ('hid', 'profit'): inf, ('chances', 'eventual'): inf, ('sharpton', 'andré'): inf, ('nuptials', 'state'): inf, ('spokesman', 'nueces'): inf, ('certain', 'implications'): inf, ('chart', 'disaster'): inf, ('sweepstakes', 'kathy'): inf, ('sticking', '7-11'): inf, ('leaves', 'empire'): inf, ('movies', 'looper'): inf, ('window', 'heavily'): inf, ('baker', 'done'): inf, ('responsibility', 'college'): inf, ('announced', 'surprises'): inf, ('combined', 'adoption'): inf, ('committee', 'politician'): inf, ('article', 'thereof.'): inf, ('left', 'radically'): inf, ('controversies', 'left'): inf, ('syllabus', 'matter'): inf, ('gems', 'midterms'): inf, ('acting', 'labor'): inf, ('deeds', 'revelations'): inf, ('1990', 'austin'): inf, ('measure', 'stis'): inf, ('hungry', 'eyeballs'): inf, ('...', 'childers'): inf, ('diminishing', 'big'): inf, ('memorable', 'parts'): inf, ('enter', 'senator'): inf, ('braved', 'hot'): inf, ('bonuses', 'worst'): inf, ('right', 'u.s.a.'): inf, ('squirrel', 'pants'): inf, ('cheshire', 'calhoun'): inf, ('slay', 'nine'): inf, ('record', 'abundantly'): inf, ('inspire', 'copycat'): inf, ('louis', 'spent'): inf, ('see', 'photographed'): inf, ('macro', 'societal'): inf} \n",
      "\n",
      "Obtaining top 50 most relevant bigrams for HYPERPARTISAN (without infinite values):\n",
      "{('college', 'fix'): 3.4828028807872107, ('may', 'blocked'): 3.3453653607242355, ('discretion', 'site'): 3.3441332692612766, ('owned', 'web'): 3.3441332692612766, ('!', 'email'): 3.3319051091513443, (\"''\", 'aligncenter'): 3.3027389984014954, ('//twitter.com/', '#'): 3.2420221242520393, ('sign', 'newsletter'): 3.156448055790317, ('reasonable', 'discourse'): 3.126472770161736, ('comments', 'containing'): 3.1244313796856886, ('engage', 'reasonable'): 3.1244313796856886, ('legislature', 'shall'): 3.0848244752282445, ('stuff', 'lying'): 3.082013435953959, ('aliases', ','): 3.0443353571628995, ('right', 'edit'): 3.04341161639152, ('offenders', 'may'): 3.04341161639152, ('jason', 'easley'): 2.9846464667470203, ('straight', 'inbox'): 2.950632487177481, (':', '//twitter.com/'): 2.9409921206907033, ('governor', 'shall'): 2.935882674904346, ('ready', 'read'): 2.933488778619141, ('twitter', 'image'): 2.929125041335122, ('site', 'administrators'): 2.8670119987469036, ('shut', 'facebook'): 2.862971885320242, ('2017', 'view'): 2.8582767021719526, ('size-full', \"''\"): 2.856384323718286, ('containing', 'violence'): 2.823912623982811, ('send', 'tips'): 2.797583065854961, (',', 'vulgarity'): 2.7728414864051256, ('courtesy', 'media'): 2.766060720231313, ('citations', 'article'): 2.7648916775765118, ('digest', \"'s\"): 2.7554242938939932, ('archive', 'past'): 2.7554242938939932, ('aligncenter', 'size-full'): 2.7408246366683695, ('seen', 'footage'): 2.7333365409481702, ('young', 'barack'): 2.7320758760584862, ('told', 'college'): 2.7295435147672116, ('quit', 'giving'): 2.7218566117732905, ('obama', 'whining'): 2.7205621290323556, ('destroyed', 'hillary'): 2.7192637764191376, ('guest', 'posting'): 2.714031199933718, ('told', 'vox'): 2.699307806845747, ('[', 'youtube'): 2.6868787061314716, (';', 'tolerance'): 2.651889818269149, ('2016', 'view'): 2.620398103859775, ('election', 'nov'): 2.6003500351937214, ('vulgarity', ','): 2.5975158673050744, ('tue', ','): 2.5951900028910986, ('2017', '``'): 2.593456277694191, ('commentary', 'solely'): 2.5882131851181} \n",
      "\n",
      "\n",
      "Obtaining top 50 most relevant bigrams for NON-HYPERPARTISAN:\n",
      "{('undermine', '2016'): -inf, ('240', 'killed'): -inf, ('issues', 'company'): -inf, (';', 'geezers'): -inf, ('reconstruct', 'memories'): -inf, ('clemency', 'king'): -inf, ('could', '14-0'): -inf, ('legislation', 'implemented'): -inf, ('tuesday', 'regards'): -inf, ('purposes', 'serious'): -inf, ('?', 'checks'): -inf, ('religious', 'conventional'): -inf, ('borne', 'thousands'): -inf, ('pulled', 'mcdonald'): -inf, ('spill', 'italy'): -inf, ('lion', 'leaps'): -inf, ('recently', 'viet'): -inf, ('key', 'unleashing'): -inf, ('tabs', 'recycling'): -inf, ('trails', 'start'): -inf, ('components', 'healthy'): -inf, ('cavalry', 'advance'): -inf, ('toll', 'thy'): -inf, ('tanned', 'grinning'): -inf, ('cyanide', 'leach'): -inf, ('obtains', 'rules'): -inf, ('cgi', 'helps'): -inf, ('referrals', 'get'): -inf, ('coping', 'woman'): -inf, ('looking', 'implement'): -inf, ('.', 'iebc'): -inf, ('complained', 'cms'): -inf, ('shower', 'recorded'): -inf, ('reproduces', 'news'): -inf, ('portrait', 'crosses'): -inf, ('creaky', 'institutions'): -inf, ('note', 'economists'): -inf, ('sentiments', 'need'): -inf, ('ellison', 'building'): -inf, ('$', 'agencies'): -inf, ('center', 'sought'): -inf, ('substance', 'marrakech'): -inf, ('candidate', 'confront'): -inf, ('mubarak', 'regularly'): -inf, ('arrive', 'endorsement'): -inf, ('brandon', 'sherrod'): -inf, ('medication', 'deal'): -inf, ('‘', 'load'): -inf, ('linked', 'car'): -inf, ('act', 'steers'): -inf} \n",
      "\n",
      "Obtaining top 50 most relevant bigrams for NON-HYPERPARTISAN (without infinite values):\n",
      "{('thanks', 'sponsors'): -4.017575371752025, (':', 'sub-saharan'): -3.790931941238915, ('checker', ':'): -3.345594027508092, ('tribune', 'donors'): -3.3268268939051326, ('account', 'surplus'): -3.2541416976491275, ('diplomacy', 'international'): -3.166921259426955, ('list', 'contributors'): -3.1320668579466124, ('haass', ':'): -3.051245456437206, ('elections', 'voting'): -3.014486795098402, ('wars', 'conflict'): -2.9694803293037824, (':', 'thailand'): -2.9273682104391225, (':', 'fossil'): -2.9263852489857323, ('david', 'mikkelson'): -2.9252460582285016, ('institutions', 'israel'): -2.882590411301404, ('sponsors', 'viewed'): -2.851770480682461, ('list', 'tribune'): -2.8454931793615508, ('donors', 'members'): -2.830014218735797, ('mentioned', 'stories'): -2.8298094032503274, (':', 'monetary'): -2.8265191514407464, ('conflict', 'prevention'): -2.79216074888138, (',', 'd-san'): -2.7484826245625147, ('violence', 'nigeria'): -2.735951422740765, ('government', 'nigeria'): -2.735442575321806, ('economics', 'united'): -2.7172465714139857, ('renewing', 'america'): -2.7161834107015794, ('import', 'growth'): -2.7135140666715163, ('cagle', 'cartoons'): -2.6789745405168794, ('us', 'external'): -2.671370434487913, (':', 'cybersecurity'): -2.6636365122903225, ('account', 'deficit'): -2.6473730200126058, ('texas', 'tribune.'): -2.6464771009447654, ('dear', 'editor'): -2.6408163409843164, ('update', 'also'): -2.6370010905990844, ('political', 'transitions'): -2.6350808228856355, ('represents', 'violence'): -2.6337959112366116, ('current', 'account'): -2.631144621878216, ('using', 'links'): -2.617076209464699, ('congresses', 'parliaments'): -2.597583312119979, ('preventive', 'action'): -2.5947768443868657, ('%', 'y/y'): -2.5933667803341534, ('donors', 'sponsors'): -2.590892915215223, ('.', 'haass'): -2.585173601915818, ('financing', 'us'): -2.5779168928225245, ('export', 'growth'): -2.5706655027350074, ('ross', 'ramsey'): -2.566419210773967, (']', 'origins'): -2.565667177611731, ('origins', ':'): -2.5513331373898147, ('•', '``'): -2.546604965554476, ('account', 'surpluses'): -2.5440634877778923, ('borowitz', '’'): -2.5352733321224266}\n"
     ]
    }
   ],
   "source": [
    "console_output_formatter.print_section_header(section_header='Most relevant words extraction (on bigrams)')\n",
    "log_odd_ratios_analyzer = LogOddRatiosAnalyzer(token_type=TokenType.BIGRAM)\n",
    "\n",
    "hyperpartisan_most_relevant_words_on_bigrams = (log_odd_ratios_analyzer.get_most_relevant_words(document_type=DocumentType.HYPERPARTISAN))\n",
    "print(f'{hyperpartisan_most_relevant_words_on_bigrams} \\n')\n",
    "hyperpartisan_most_relevant_words_not_inf_on_bigrams = (log_odd_ratios_analyzer.\n",
    "    get_most_relevant_words(\n",
    "        document_type=DocumentType.HYPERPARTISAN,\n",
    "        infinite_values=False\n",
    "    )\n",
    ")\n",
    "print(f'{hyperpartisan_most_relevant_words_not_inf_on_bigrams} \\n\\n')\n",
    "\n",
    "non_hyperpartisan_most_relevant_words_on_bigrams = (log_odd_ratios_analyzer.get_most_relevant_words(document_type=DocumentType.NON_HYPERPARTISAN))\n",
    "print(f'{non_hyperpartisan_most_relevant_words_on_bigrams} \\n')\n",
    "non_hyperpartisan_most_relevant_words_not_inf_on_bigrams = (log_odd_ratios_analyzer.\n",
    "    get_most_relevant_words(\n",
    "        document_type=DocumentType.NON_HYPERPARTISAN,\n",
    "        infinite_values=False\n",
    "    )\n",
    ")\n",
    "print(non_hyperpartisan_most_relevant_words_not_inf_on_bigrams)"
   ],
   "metadata": {
    "collapsed": false,
    "ExecuteTime": {
     "end_time": "2024-04-05T11:28:19.505658Z",
     "start_time": "2024-04-05T11:27:17.074051Z"
    }
   },
   "id": "42d458f98893a2cc",
   "execution_count": 11
  },
  {
   "cell_type": "markdown",
   "source": [
    "\\* NOTE: Due to excessive RAM memory usage some checkpoints have been stored via *pickle* files and the environment has been restarted 2-3 times. "
   ],
   "metadata": {
    "collapsed": false
   },
   "id": "e573ac7207e0f4b9"
  },
  {
   "cell_type": "markdown",
   "source": [
    "## 3. Results Analysis"
   ],
   "metadata": {
    "collapsed": false
   },
   "id": "217dd566808c4059"
  }
 ],
 "metadata": {
  "kernelspec": {
   "display_name": "Python 3",
   "language": "python",
   "name": "python3"
  },
  "language_info": {
   "codemirror_mode": {
    "name": "ipython",
    "version": 2
   },
   "file_extension": ".py",
   "mimetype": "text/x-python",
   "name": "python",
   "nbconvert_exporter": "python",
   "pygments_lexer": "ipython2",
   "version": "2.7.6"
  }
 },
 "nbformat": 4,
 "nbformat_minor": 5
}
