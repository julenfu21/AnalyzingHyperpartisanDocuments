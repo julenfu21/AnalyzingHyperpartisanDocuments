{
 "cells": [
  {
   "cell_type": "markdown",
   "source": [
    "# Analyzing Hyperpartisan Documents"
   ],
   "metadata": {
    "collapsed": false
   },
   "id": "6dd4d717c5cff539"
  },
  {
   "cell_type": "markdown",
   "source": [
    "## 1. Setup Working Environment"
   ],
   "metadata": {
    "collapsed": false
   },
   "id": "bccccc10080ec8fe"
  },
  {
   "cell_type": "markdown",
   "source": [
    "### 1.1. Load zip data files"
   ],
   "metadata": {
    "collapsed": false
   },
   "id": "e816f8cf63e214e0"
  },
  {
   "cell_type": "markdown",
   "source": [
    "#### 1.1.1. Download zip files from Google Drive link"
   ],
   "metadata": {
    "collapsed": false
   },
   "id": "b543bd962b3ebdfb"
  },
  {
   "cell_type": "code",
   "outputs": [
    {
     "name": "stderr",
     "output_type": "stream",
     "text": [
      "Retrieving folder contents\n"
     ]
    },
    {
     "name": "stdout",
     "output_type": "stream",
     "text": [
      "Processing file 11XnbNY-7LdzEoo-HLaTzQcnFy4CVBPPZ articles-validation-bypublisher-20181122.zip\n",
      "Processing file 193XKdPA2rq5oq1KNKZdp7-jCDcjE9rOb ground-truth-validation-bypublisher-20181122.zip\n"
     ]
    },
    {
     "name": "stderr",
     "output_type": "stream",
     "text": [
      "Retrieving folder contents completed\n",
      "Building directory structure\n",
      "Building directory structure completed\n",
      "Downloading...\n",
      "From (original): https://drive.google.com/uc?id=11XnbNY-7LdzEoo-HLaTzQcnFy4CVBPPZ\n",
      "From (redirected): https://drive.google.com/uc?id=11XnbNY-7LdzEoo-HLaTzQcnFy4CVBPPZ&confirm=t&uuid=b3d2f4d0-b8bb-4d2e-ba30-12f235b42efa\n",
      "To: /home/jfu08/PycharmProjects/AnalyzingHyperpartisanDocuments/notebooks/data/articles-validation-bypublisher-20181122.zip\n",
      "100%|██████████| 337M/337M [01:48<00:00, 3.11MB/s] \n",
      "Downloading...\n",
      "From: https://drive.google.com/uc?id=193XKdPA2rq5oq1KNKZdp7-jCDcjE9rOb\n",
      "To: /home/jfu08/PycharmProjects/AnalyzingHyperpartisanDocuments/notebooks/data/ground-truth-validation-bypublisher-20181122.zip\n",
      "100%|██████████| 5.24M/5.24M [00:01<00:00, 3.17MB/s]\n",
      "Download completed\n"
     ]
    },
    {
     "data": {
      "text/plain": "['/home/jfu08/PycharmProjects/AnalyzingHyperpartisanDocuments/notebooks/data/articles-validation-bypublisher-20181122.zip',\n '/home/jfu08/PycharmProjects/AnalyzingHyperpartisanDocuments/notebooks/data/ground-truth-validation-bypublisher-20181122.zip']"
     },
     "execution_count": 1,
     "metadata": {},
     "output_type": "execute_result"
    }
   ],
   "source": [
    "import gdown\n",
    "\n",
    "zip_data_url = \"https://drive.google.com/drive/folders/1e8tgF2tGdZJ0HU-7pKX7yMLBLw71XTMe?usp=drive_link\"\n",
    "gdown.download_folder(zip_data_url)"
   ],
   "metadata": {
    "collapsed": false,
    "ExecuteTime": {
     "end_time": "2024-04-05T10:52:05.571796Z",
     "start_time": "2024-04-05T10:50:09.097795Z"
    }
   },
   "id": "2d18f2f4f7c39d2",
   "execution_count": 1
  },
  {
   "cell_type": "markdown",
   "source": [
    "#### 1.1.2. Move downloaded data files to the corresponding `zip_data_path`"
   ],
   "metadata": {
    "collapsed": false
   },
   "id": "cc3fde23e5781959"
  },
  {
   "cell_type": "code",
   "outputs": [],
   "source": [
    "import os\n",
    "import shutil\n",
    "\n",
    "\n",
    "downloaded_data_path = 'data'\n",
    "zip_data_path = '../data/zip'\n",
    "\n",
    "os.makedirs(zip_data_path)\n",
    "for zip_data_file in os.listdir('data'):\n",
    "    source_path = os.path.join(downloaded_data_path, zip_data_file)\n",
    "    destination_path = os.path.join(zip_data_path, zip_data_file)\n",
    "    shutil.move(source_path, destination_path)\n",
    "\n",
    "os.rmdir(downloaded_data_path)"
   ],
   "metadata": {
    "collapsed": false,
    "ExecuteTime": {
     "end_time": "2024-04-05T10:52:16.805868Z",
     "start_time": "2024-04-05T10:52:16.802372Z"
    }
   },
   "id": "c9ae201f259840e0",
   "execution_count": 2
  },
  {
   "cell_type": "markdown",
   "source": [
    "### 1.3. Install required packages"
   ],
   "metadata": {
    "collapsed": false
   },
   "id": "82d16d021b33e690"
  },
  {
   "cell_type": "code",
   "outputs": [
    {
     "name": "stdout",
     "output_type": "stream",
     "text": [
      "Requirement already satisfied: lxml in /home/jfu08/PycharmProjects/AnalyzingHyperpartisanDocuments/venv/lib/python3.10/site-packages (from -r ../requirements.txt (line 1)) (5.1.0)\r\n",
      "Requirement already satisfied: tqdm in /home/jfu08/PycharmProjects/AnalyzingHyperpartisanDocuments/venv/lib/python3.10/site-packages (from -r ../requirements.txt (line 2)) (4.66.2)\r\n",
      "Requirement already satisfied: nltk in /home/jfu08/PycharmProjects/AnalyzingHyperpartisanDocuments/venv/lib/python3.10/site-packages (from -r ../requirements.txt (line 3)) (3.8.1)\r\n",
      "Requirement already satisfied: jupyter in /home/jfu08/PycharmProjects/AnalyzingHyperpartisanDocuments/venv/lib/python3.10/site-packages (from -r ../requirements.txt (line 4)) (1.0.0)\r\n",
      "Requirement already satisfied: gdown in /home/jfu08/PycharmProjects/AnalyzingHyperpartisanDocuments/venv/lib/python3.10/site-packages (from -r ../requirements.txt (line 5)) (5.1.0)\r\n",
      "Requirement already satisfied: click in /home/jfu08/PycharmProjects/AnalyzingHyperpartisanDocuments/venv/lib/python3.10/site-packages (from nltk->-r ../requirements.txt (line 3)) (8.1.7)\r\n",
      "Requirement already satisfied: joblib in /home/jfu08/PycharmProjects/AnalyzingHyperpartisanDocuments/venv/lib/python3.10/site-packages (from nltk->-r ../requirements.txt (line 3)) (1.3.2)\r\n",
      "Requirement already satisfied: regex>=2021.8.3 in /home/jfu08/PycharmProjects/AnalyzingHyperpartisanDocuments/venv/lib/python3.10/site-packages (from nltk->-r ../requirements.txt (line 3)) (2023.12.25)\r\n",
      "Requirement already satisfied: notebook in /home/jfu08/PycharmProjects/AnalyzingHyperpartisanDocuments/venv/lib/python3.10/site-packages (from jupyter->-r ../requirements.txt (line 4)) (7.1.2)\r\n",
      "Requirement already satisfied: qtconsole in /home/jfu08/PycharmProjects/AnalyzingHyperpartisanDocuments/venv/lib/python3.10/site-packages (from jupyter->-r ../requirements.txt (line 4)) (5.5.1)\r\n",
      "Requirement already satisfied: jupyter-console in /home/jfu08/PycharmProjects/AnalyzingHyperpartisanDocuments/venv/lib/python3.10/site-packages (from jupyter->-r ../requirements.txt (line 4)) (6.6.3)\r\n",
      "Requirement already satisfied: nbconvert in /home/jfu08/PycharmProjects/AnalyzingHyperpartisanDocuments/venv/lib/python3.10/site-packages (from jupyter->-r ../requirements.txt (line 4)) (7.16.3)\r\n",
      "Requirement already satisfied: ipykernel in /home/jfu08/PycharmProjects/AnalyzingHyperpartisanDocuments/venv/lib/python3.10/site-packages (from jupyter->-r ../requirements.txt (line 4)) (6.29.4)\r\n",
      "Requirement already satisfied: ipywidgets in /home/jfu08/PycharmProjects/AnalyzingHyperpartisanDocuments/venv/lib/python3.10/site-packages (from jupyter->-r ../requirements.txt (line 4)) (8.1.2)\r\n",
      "Requirement already satisfied: beautifulsoup4 in /home/jfu08/PycharmProjects/AnalyzingHyperpartisanDocuments/venv/lib/python3.10/site-packages (from gdown->-r ../requirements.txt (line 5)) (4.12.3)\r\n",
      "Requirement already satisfied: filelock in /home/jfu08/PycharmProjects/AnalyzingHyperpartisanDocuments/venv/lib/python3.10/site-packages (from gdown->-r ../requirements.txt (line 5)) (3.13.3)\r\n",
      "Requirement already satisfied: requests[socks] in /home/jfu08/PycharmProjects/AnalyzingHyperpartisanDocuments/venv/lib/python3.10/site-packages (from gdown->-r ../requirements.txt (line 5)) (2.31.0)\r\n",
      "Requirement already satisfied: soupsieve>1.2 in /home/jfu08/PycharmProjects/AnalyzingHyperpartisanDocuments/venv/lib/python3.10/site-packages (from beautifulsoup4->gdown->-r ../requirements.txt (line 5)) (2.5)\r\n",
      "Requirement already satisfied: comm>=0.1.1 in /home/jfu08/PycharmProjects/AnalyzingHyperpartisanDocuments/venv/lib/python3.10/site-packages (from ipykernel->jupyter->-r ../requirements.txt (line 4)) (0.2.2)\r\n",
      "Requirement already satisfied: debugpy>=1.6.5 in /home/jfu08/PycharmProjects/AnalyzingHyperpartisanDocuments/venv/lib/python3.10/site-packages (from ipykernel->jupyter->-r ../requirements.txt (line 4)) (1.8.1)\r\n",
      "Requirement already satisfied: ipython>=7.23.1 in /home/jfu08/PycharmProjects/AnalyzingHyperpartisanDocuments/venv/lib/python3.10/site-packages (from ipykernel->jupyter->-r ../requirements.txt (line 4)) (8.23.0)\r\n",
      "Requirement already satisfied: jupyter-client>=6.1.12 in /home/jfu08/PycharmProjects/AnalyzingHyperpartisanDocuments/venv/lib/python3.10/site-packages (from ipykernel->jupyter->-r ../requirements.txt (line 4)) (8.6.1)\r\n",
      "Requirement already satisfied: jupyter-core!=5.0.*,>=4.12 in /home/jfu08/PycharmProjects/AnalyzingHyperpartisanDocuments/venv/lib/python3.10/site-packages (from ipykernel->jupyter->-r ../requirements.txt (line 4)) (5.7.2)\r\n",
      "Requirement already satisfied: matplotlib-inline>=0.1 in /home/jfu08/PycharmProjects/AnalyzingHyperpartisanDocuments/venv/lib/python3.10/site-packages (from ipykernel->jupyter->-r ../requirements.txt (line 4)) (0.1.6)\r\n",
      "Requirement already satisfied: nest-asyncio in /home/jfu08/PycharmProjects/AnalyzingHyperpartisanDocuments/venv/lib/python3.10/site-packages (from ipykernel->jupyter->-r ../requirements.txt (line 4)) (1.6.0)\r\n",
      "Requirement already satisfied: packaging in /home/jfu08/PycharmProjects/AnalyzingHyperpartisanDocuments/venv/lib/python3.10/site-packages (from ipykernel->jupyter->-r ../requirements.txt (line 4)) (24.0)\r\n",
      "Requirement already satisfied: psutil in /home/jfu08/PycharmProjects/AnalyzingHyperpartisanDocuments/venv/lib/python3.10/site-packages (from ipykernel->jupyter->-r ../requirements.txt (line 4)) (5.9.8)\r\n",
      "Requirement already satisfied: pyzmq>=24 in /home/jfu08/PycharmProjects/AnalyzingHyperpartisanDocuments/venv/lib/python3.10/site-packages (from ipykernel->jupyter->-r ../requirements.txt (line 4)) (25.1.2)\r\n",
      "Requirement already satisfied: tornado>=6.1 in /home/jfu08/PycharmProjects/AnalyzingHyperpartisanDocuments/venv/lib/python3.10/site-packages (from ipykernel->jupyter->-r ../requirements.txt (line 4)) (6.4)\r\n",
      "Requirement already satisfied: traitlets>=5.4.0 in /home/jfu08/PycharmProjects/AnalyzingHyperpartisanDocuments/venv/lib/python3.10/site-packages (from ipykernel->jupyter->-r ../requirements.txt (line 4)) (5.14.2)\r\n",
      "Requirement already satisfied: widgetsnbextension~=4.0.10 in /home/jfu08/PycharmProjects/AnalyzingHyperpartisanDocuments/venv/lib/python3.10/site-packages (from ipywidgets->jupyter->-r ../requirements.txt (line 4)) (4.0.10)\r\n",
      "Requirement already satisfied: jupyterlab-widgets~=3.0.10 in /home/jfu08/PycharmProjects/AnalyzingHyperpartisanDocuments/venv/lib/python3.10/site-packages (from ipywidgets->jupyter->-r ../requirements.txt (line 4)) (3.0.10)\r\n",
      "Requirement already satisfied: prompt-toolkit>=3.0.30 in /home/jfu08/PycharmProjects/AnalyzingHyperpartisanDocuments/venv/lib/python3.10/site-packages (from jupyter-console->jupyter->-r ../requirements.txt (line 4)) (3.0.43)\r\n",
      "Requirement already satisfied: pygments in /home/jfu08/PycharmProjects/AnalyzingHyperpartisanDocuments/venv/lib/python3.10/site-packages (from jupyter-console->jupyter->-r ../requirements.txt (line 4)) (2.17.2)\r\n",
      "Requirement already satisfied: bleach!=5.0.0 in /home/jfu08/PycharmProjects/AnalyzingHyperpartisanDocuments/venv/lib/python3.10/site-packages (from nbconvert->jupyter->-r ../requirements.txt (line 4)) (6.1.0)\r\n",
      "Requirement already satisfied: defusedxml in /home/jfu08/PycharmProjects/AnalyzingHyperpartisanDocuments/venv/lib/python3.10/site-packages (from nbconvert->jupyter->-r ../requirements.txt (line 4)) (0.7.1)\r\n",
      "Requirement already satisfied: jinja2>=3.0 in /home/jfu08/PycharmProjects/AnalyzingHyperpartisanDocuments/venv/lib/python3.10/site-packages (from nbconvert->jupyter->-r ../requirements.txt (line 4)) (3.1.3)\r\n",
      "Requirement already satisfied: jupyterlab-pygments in /home/jfu08/PycharmProjects/AnalyzingHyperpartisanDocuments/venv/lib/python3.10/site-packages (from nbconvert->jupyter->-r ../requirements.txt (line 4)) (0.3.0)\r\n",
      "Requirement already satisfied: markupsafe>=2.0 in /home/jfu08/PycharmProjects/AnalyzingHyperpartisanDocuments/venv/lib/python3.10/site-packages (from nbconvert->jupyter->-r ../requirements.txt (line 4)) (2.1.5)\r\n",
      "Requirement already satisfied: mistune<4,>=2.0.3 in /home/jfu08/PycharmProjects/AnalyzingHyperpartisanDocuments/venv/lib/python3.10/site-packages (from nbconvert->jupyter->-r ../requirements.txt (line 4)) (3.0.2)\r\n",
      "Requirement already satisfied: nbclient>=0.5.0 in /home/jfu08/PycharmProjects/AnalyzingHyperpartisanDocuments/venv/lib/python3.10/site-packages (from nbconvert->jupyter->-r ../requirements.txt (line 4)) (0.10.0)\r\n",
      "Requirement already satisfied: nbformat>=5.7 in /home/jfu08/PycharmProjects/AnalyzingHyperpartisanDocuments/venv/lib/python3.10/site-packages (from nbconvert->jupyter->-r ../requirements.txt (line 4)) (5.10.4)\r\n",
      "Requirement already satisfied: pandocfilters>=1.4.1 in /home/jfu08/PycharmProjects/AnalyzingHyperpartisanDocuments/venv/lib/python3.10/site-packages (from nbconvert->jupyter->-r ../requirements.txt (line 4)) (1.5.1)\r\n",
      "Requirement already satisfied: tinycss2 in /home/jfu08/PycharmProjects/AnalyzingHyperpartisanDocuments/venv/lib/python3.10/site-packages (from nbconvert->jupyter->-r ../requirements.txt (line 4)) (1.2.1)\r\n",
      "Requirement already satisfied: jupyter-server<3,>=2.4.0 in /home/jfu08/PycharmProjects/AnalyzingHyperpartisanDocuments/venv/lib/python3.10/site-packages (from notebook->jupyter->-r ../requirements.txt (line 4)) (2.13.0)\r\n",
      "Requirement already satisfied: jupyterlab-server<3,>=2.22.1 in /home/jfu08/PycharmProjects/AnalyzingHyperpartisanDocuments/venv/lib/python3.10/site-packages (from notebook->jupyter->-r ../requirements.txt (line 4)) (2.25.4)\r\n",
      "Requirement already satisfied: jupyterlab<4.2,>=4.1.1 in /home/jfu08/PycharmProjects/AnalyzingHyperpartisanDocuments/venv/lib/python3.10/site-packages (from notebook->jupyter->-r ../requirements.txt (line 4)) (4.1.5)\r\n",
      "Requirement already satisfied: notebook-shim<0.3,>=0.2 in /home/jfu08/PycharmProjects/AnalyzingHyperpartisanDocuments/venv/lib/python3.10/site-packages (from notebook->jupyter->-r ../requirements.txt (line 4)) (0.2.4)\r\n",
      "Requirement already satisfied: qtpy>=2.4.0 in /home/jfu08/PycharmProjects/AnalyzingHyperpartisanDocuments/venv/lib/python3.10/site-packages (from qtconsole->jupyter->-r ../requirements.txt (line 4)) (2.4.1)\r\n",
      "Requirement already satisfied: charset-normalizer<4,>=2 in /home/jfu08/PycharmProjects/AnalyzingHyperpartisanDocuments/venv/lib/python3.10/site-packages (from requests[socks]->gdown->-r ../requirements.txt (line 5)) (3.3.2)\r\n",
      "Requirement already satisfied: idna<4,>=2.5 in /home/jfu08/PycharmProjects/AnalyzingHyperpartisanDocuments/venv/lib/python3.10/site-packages (from requests[socks]->gdown->-r ../requirements.txt (line 5)) (3.6)\r\n",
      "Requirement already satisfied: urllib3<3,>=1.21.1 in /home/jfu08/PycharmProjects/AnalyzingHyperpartisanDocuments/venv/lib/python3.10/site-packages (from requests[socks]->gdown->-r ../requirements.txt (line 5)) (2.2.1)\r\n",
      "Requirement already satisfied: certifi>=2017.4.17 in /home/jfu08/PycharmProjects/AnalyzingHyperpartisanDocuments/venv/lib/python3.10/site-packages (from requests[socks]->gdown->-r ../requirements.txt (line 5)) (2024.2.2)\r\n",
      "Requirement already satisfied: PySocks!=1.5.7,>=1.5.6 in /home/jfu08/PycharmProjects/AnalyzingHyperpartisanDocuments/venv/lib/python3.10/site-packages (from requests[socks]->gdown->-r ../requirements.txt (line 5)) (1.7.1)\r\n",
      "Requirement already satisfied: six>=1.9.0 in /home/jfu08/PycharmProjects/AnalyzingHyperpartisanDocuments/venv/lib/python3.10/site-packages (from bleach!=5.0.0->nbconvert->jupyter->-r ../requirements.txt (line 4)) (1.16.0)\r\n",
      "Requirement already satisfied: webencodings in /home/jfu08/PycharmProjects/AnalyzingHyperpartisanDocuments/venv/lib/python3.10/site-packages (from bleach!=5.0.0->nbconvert->jupyter->-r ../requirements.txt (line 4)) (0.5.1)\r\n",
      "Requirement already satisfied: decorator in /home/jfu08/PycharmProjects/AnalyzingHyperpartisanDocuments/venv/lib/python3.10/site-packages (from ipython>=7.23.1->ipykernel->jupyter->-r ../requirements.txt (line 4)) (5.1.1)\r\n",
      "Requirement already satisfied: jedi>=0.16 in /home/jfu08/PycharmProjects/AnalyzingHyperpartisanDocuments/venv/lib/python3.10/site-packages (from ipython>=7.23.1->ipykernel->jupyter->-r ../requirements.txt (line 4)) (0.19.1)\r\n",
      "Requirement already satisfied: stack-data in /home/jfu08/PycharmProjects/AnalyzingHyperpartisanDocuments/venv/lib/python3.10/site-packages (from ipython>=7.23.1->ipykernel->jupyter->-r ../requirements.txt (line 4)) (0.6.3)\r\n",
      "Requirement already satisfied: exceptiongroup in /home/jfu08/PycharmProjects/AnalyzingHyperpartisanDocuments/venv/lib/python3.10/site-packages (from ipython>=7.23.1->ipykernel->jupyter->-r ../requirements.txt (line 4)) (1.2.0)\r\n",
      "Requirement already satisfied: typing-extensions in /home/jfu08/PycharmProjects/AnalyzingHyperpartisanDocuments/venv/lib/python3.10/site-packages (from ipython>=7.23.1->ipykernel->jupyter->-r ../requirements.txt (line 4)) (4.10.0)\r\n",
      "Requirement already satisfied: pexpect>4.3 in /home/jfu08/PycharmProjects/AnalyzingHyperpartisanDocuments/venv/lib/python3.10/site-packages (from ipython>=7.23.1->ipykernel->jupyter->-r ../requirements.txt (line 4)) (4.9.0)\r\n",
      "Requirement already satisfied: python-dateutil>=2.8.2 in /home/jfu08/PycharmProjects/AnalyzingHyperpartisanDocuments/venv/lib/python3.10/site-packages (from jupyter-client>=6.1.12->ipykernel->jupyter->-r ../requirements.txt (line 4)) (2.9.0.post0)\r\n",
      "Requirement already satisfied: platformdirs>=2.5 in /home/jfu08/PycharmProjects/AnalyzingHyperpartisanDocuments/venv/lib/python3.10/site-packages (from jupyter-core!=5.0.*,>=4.12->ipykernel->jupyter->-r ../requirements.txt (line 4)) (4.2.0)\r\n",
      "Requirement already satisfied: anyio>=3.1.0 in /home/jfu08/PycharmProjects/AnalyzingHyperpartisanDocuments/venv/lib/python3.10/site-packages (from jupyter-server<3,>=2.4.0->notebook->jupyter->-r ../requirements.txt (line 4)) (4.3.0)\r\n",
      "Requirement already satisfied: argon2-cffi in /home/jfu08/PycharmProjects/AnalyzingHyperpartisanDocuments/venv/lib/python3.10/site-packages (from jupyter-server<3,>=2.4.0->notebook->jupyter->-r ../requirements.txt (line 4)) (23.1.0)\r\n",
      "Requirement already satisfied: jupyter-events>=0.9.0 in /home/jfu08/PycharmProjects/AnalyzingHyperpartisanDocuments/venv/lib/python3.10/site-packages (from jupyter-server<3,>=2.4.0->notebook->jupyter->-r ../requirements.txt (line 4)) (0.10.0)\r\n",
      "Requirement already satisfied: jupyter-server-terminals in /home/jfu08/PycharmProjects/AnalyzingHyperpartisanDocuments/venv/lib/python3.10/site-packages (from jupyter-server<3,>=2.4.0->notebook->jupyter->-r ../requirements.txt (line 4)) (0.5.3)\r\n",
      "Requirement already satisfied: overrides in /home/jfu08/PycharmProjects/AnalyzingHyperpartisanDocuments/venv/lib/python3.10/site-packages (from jupyter-server<3,>=2.4.0->notebook->jupyter->-r ../requirements.txt (line 4)) (7.7.0)\r\n",
      "Requirement already satisfied: prometheus-client in /home/jfu08/PycharmProjects/AnalyzingHyperpartisanDocuments/venv/lib/python3.10/site-packages (from jupyter-server<3,>=2.4.0->notebook->jupyter->-r ../requirements.txt (line 4)) (0.20.0)\r\n",
      "Requirement already satisfied: send2trash>=1.8.2 in /home/jfu08/PycharmProjects/AnalyzingHyperpartisanDocuments/venv/lib/python3.10/site-packages (from jupyter-server<3,>=2.4.0->notebook->jupyter->-r ../requirements.txt (line 4)) (1.8.2)\r\n",
      "Requirement already satisfied: terminado>=0.8.3 in /home/jfu08/PycharmProjects/AnalyzingHyperpartisanDocuments/venv/lib/python3.10/site-packages (from jupyter-server<3,>=2.4.0->notebook->jupyter->-r ../requirements.txt (line 4)) (0.18.1)\r\n",
      "Requirement already satisfied: websocket-client in /home/jfu08/PycharmProjects/AnalyzingHyperpartisanDocuments/venv/lib/python3.10/site-packages (from jupyter-server<3,>=2.4.0->notebook->jupyter->-r ../requirements.txt (line 4)) (1.7.0)\r\n",
      "Requirement already satisfied: async-lru>=1.0.0 in /home/jfu08/PycharmProjects/AnalyzingHyperpartisanDocuments/venv/lib/python3.10/site-packages (from jupyterlab<4.2,>=4.1.1->notebook->jupyter->-r ../requirements.txt (line 4)) (2.0.4)\r\n",
      "Requirement already satisfied: httpx>=0.25.0 in /home/jfu08/PycharmProjects/AnalyzingHyperpartisanDocuments/venv/lib/python3.10/site-packages (from jupyterlab<4.2,>=4.1.1->notebook->jupyter->-r ../requirements.txt (line 4)) (0.27.0)\r\n",
      "Requirement already satisfied: jupyter-lsp>=2.0.0 in /home/jfu08/PycharmProjects/AnalyzingHyperpartisanDocuments/venv/lib/python3.10/site-packages (from jupyterlab<4.2,>=4.1.1->notebook->jupyter->-r ../requirements.txt (line 4)) (2.2.4)\r\n",
      "Requirement already satisfied: tomli in /home/jfu08/PycharmProjects/AnalyzingHyperpartisanDocuments/venv/lib/python3.10/site-packages (from jupyterlab<4.2,>=4.1.1->notebook->jupyter->-r ../requirements.txt (line 4)) (2.0.1)\r\n",
      "Requirement already satisfied: babel>=2.10 in /home/jfu08/PycharmProjects/AnalyzingHyperpartisanDocuments/venv/lib/python3.10/site-packages (from jupyterlab-server<3,>=2.22.1->notebook->jupyter->-r ../requirements.txt (line 4)) (2.14.0)\r\n",
      "Requirement already satisfied: json5>=0.9.0 in /home/jfu08/PycharmProjects/AnalyzingHyperpartisanDocuments/venv/lib/python3.10/site-packages (from jupyterlab-server<3,>=2.22.1->notebook->jupyter->-r ../requirements.txt (line 4)) (0.9.24)\r\n",
      "Requirement already satisfied: jsonschema>=4.18.0 in /home/jfu08/PycharmProjects/AnalyzingHyperpartisanDocuments/venv/lib/python3.10/site-packages (from jupyterlab-server<3,>=2.22.1->notebook->jupyter->-r ../requirements.txt (line 4)) (4.21.1)\r\n",
      "Requirement already satisfied: fastjsonschema>=2.15 in /home/jfu08/PycharmProjects/AnalyzingHyperpartisanDocuments/venv/lib/python3.10/site-packages (from nbformat>=5.7->nbconvert->jupyter->-r ../requirements.txt (line 4)) (2.19.1)\r\n",
      "Requirement already satisfied: wcwidth in /home/jfu08/PycharmProjects/AnalyzingHyperpartisanDocuments/venv/lib/python3.10/site-packages (from prompt-toolkit>=3.0.30->jupyter-console->jupyter->-r ../requirements.txt (line 4)) (0.2.13)\r\n",
      "Requirement already satisfied: sniffio>=1.1 in /home/jfu08/PycharmProjects/AnalyzingHyperpartisanDocuments/venv/lib/python3.10/site-packages (from anyio>=3.1.0->jupyter-server<3,>=2.4.0->notebook->jupyter->-r ../requirements.txt (line 4)) (1.3.1)\r\n",
      "Requirement already satisfied: httpcore==1.* in /home/jfu08/PycharmProjects/AnalyzingHyperpartisanDocuments/venv/lib/python3.10/site-packages (from httpx>=0.25.0->jupyterlab<4.2,>=4.1.1->notebook->jupyter->-r ../requirements.txt (line 4)) (1.0.5)\r\n",
      "Requirement already satisfied: h11<0.15,>=0.13 in /home/jfu08/PycharmProjects/AnalyzingHyperpartisanDocuments/venv/lib/python3.10/site-packages (from httpcore==1.*->httpx>=0.25.0->jupyterlab<4.2,>=4.1.1->notebook->jupyter->-r ../requirements.txt (line 4)) (0.14.0)\r\n",
      "Requirement already satisfied: parso<0.9.0,>=0.8.3 in /home/jfu08/PycharmProjects/AnalyzingHyperpartisanDocuments/venv/lib/python3.10/site-packages (from jedi>=0.16->ipython>=7.23.1->ipykernel->jupyter->-r ../requirements.txt (line 4)) (0.8.3)\r\n",
      "Requirement already satisfied: attrs>=22.2.0 in /home/jfu08/PycharmProjects/AnalyzingHyperpartisanDocuments/venv/lib/python3.10/site-packages (from jsonschema>=4.18.0->jupyterlab-server<3,>=2.22.1->notebook->jupyter->-r ../requirements.txt (line 4)) (23.2.0)\r\n",
      "Requirement already satisfied: jsonschema-specifications>=2023.03.6 in /home/jfu08/PycharmProjects/AnalyzingHyperpartisanDocuments/venv/lib/python3.10/site-packages (from jsonschema>=4.18.0->jupyterlab-server<3,>=2.22.1->notebook->jupyter->-r ../requirements.txt (line 4)) (2023.12.1)\r\n",
      "Requirement already satisfied: referencing>=0.28.4 in /home/jfu08/PycharmProjects/AnalyzingHyperpartisanDocuments/venv/lib/python3.10/site-packages (from jsonschema>=4.18.0->jupyterlab-server<3,>=2.22.1->notebook->jupyter->-r ../requirements.txt (line 4)) (0.34.0)\r\n",
      "Requirement already satisfied: rpds-py>=0.7.1 in /home/jfu08/PycharmProjects/AnalyzingHyperpartisanDocuments/venv/lib/python3.10/site-packages (from jsonschema>=4.18.0->jupyterlab-server<3,>=2.22.1->notebook->jupyter->-r ../requirements.txt (line 4)) (0.18.0)\r\n",
      "Requirement already satisfied: python-json-logger>=2.0.4 in /home/jfu08/PycharmProjects/AnalyzingHyperpartisanDocuments/venv/lib/python3.10/site-packages (from jupyter-events>=0.9.0->jupyter-server<3,>=2.4.0->notebook->jupyter->-r ../requirements.txt (line 4)) (2.0.7)\r\n",
      "Requirement already satisfied: pyyaml>=5.3 in /home/jfu08/PycharmProjects/AnalyzingHyperpartisanDocuments/venv/lib/python3.10/site-packages (from jupyter-events>=0.9.0->jupyter-server<3,>=2.4.0->notebook->jupyter->-r ../requirements.txt (line 4)) (6.0.1)\r\n",
      "Requirement already satisfied: rfc3339-validator in /home/jfu08/PycharmProjects/AnalyzingHyperpartisanDocuments/venv/lib/python3.10/site-packages (from jupyter-events>=0.9.0->jupyter-server<3,>=2.4.0->notebook->jupyter->-r ../requirements.txt (line 4)) (0.1.4)\r\n",
      "Requirement already satisfied: rfc3986-validator>=0.1.1 in /home/jfu08/PycharmProjects/AnalyzingHyperpartisanDocuments/venv/lib/python3.10/site-packages (from jupyter-events>=0.9.0->jupyter-server<3,>=2.4.0->notebook->jupyter->-r ../requirements.txt (line 4)) (0.1.1)\r\n",
      "Requirement already satisfied: ptyprocess>=0.5 in /home/jfu08/PycharmProjects/AnalyzingHyperpartisanDocuments/venv/lib/python3.10/site-packages (from pexpect>4.3->ipython>=7.23.1->ipykernel->jupyter->-r ../requirements.txt (line 4)) (0.7.0)\r\n",
      "Requirement already satisfied: argon2-cffi-bindings in /home/jfu08/PycharmProjects/AnalyzingHyperpartisanDocuments/venv/lib/python3.10/site-packages (from argon2-cffi->jupyter-server<3,>=2.4.0->notebook->jupyter->-r ../requirements.txt (line 4)) (21.2.0)\r\n",
      "Requirement already satisfied: executing>=1.2.0 in /home/jfu08/PycharmProjects/AnalyzingHyperpartisanDocuments/venv/lib/python3.10/site-packages (from stack-data->ipython>=7.23.1->ipykernel->jupyter->-r ../requirements.txt (line 4)) (2.0.1)\r\n",
      "Requirement already satisfied: asttokens>=2.1.0 in /home/jfu08/PycharmProjects/AnalyzingHyperpartisanDocuments/venv/lib/python3.10/site-packages (from stack-data->ipython>=7.23.1->ipykernel->jupyter->-r ../requirements.txt (line 4)) (2.4.1)\r\n",
      "Requirement already satisfied: pure-eval in /home/jfu08/PycharmProjects/AnalyzingHyperpartisanDocuments/venv/lib/python3.10/site-packages (from stack-data->ipython>=7.23.1->ipykernel->jupyter->-r ../requirements.txt (line 4)) (0.2.2)\r\n",
      "Requirement already satisfied: fqdn in /home/jfu08/PycharmProjects/AnalyzingHyperpartisanDocuments/venv/lib/python3.10/site-packages (from jsonschema[format-nongpl]>=4.18.0->jupyter-events>=0.9.0->jupyter-server<3,>=2.4.0->notebook->jupyter->-r ../requirements.txt (line 4)) (1.5.1)\r\n",
      "Requirement already satisfied: isoduration in /home/jfu08/PycharmProjects/AnalyzingHyperpartisanDocuments/venv/lib/python3.10/site-packages (from jsonschema[format-nongpl]>=4.18.0->jupyter-events>=0.9.0->jupyter-server<3,>=2.4.0->notebook->jupyter->-r ../requirements.txt (line 4)) (20.11.0)\r\n",
      "Requirement already satisfied: jsonpointer>1.13 in /home/jfu08/PycharmProjects/AnalyzingHyperpartisanDocuments/venv/lib/python3.10/site-packages (from jsonschema[format-nongpl]>=4.18.0->jupyter-events>=0.9.0->jupyter-server<3,>=2.4.0->notebook->jupyter->-r ../requirements.txt (line 4)) (2.4)\r\n",
      "Requirement already satisfied: uri-template in /home/jfu08/PycharmProjects/AnalyzingHyperpartisanDocuments/venv/lib/python3.10/site-packages (from jsonschema[format-nongpl]>=4.18.0->jupyter-events>=0.9.0->jupyter-server<3,>=2.4.0->notebook->jupyter->-r ../requirements.txt (line 4)) (1.3.0)\r\n",
      "Requirement already satisfied: webcolors>=1.11 in /home/jfu08/PycharmProjects/AnalyzingHyperpartisanDocuments/venv/lib/python3.10/site-packages (from jsonschema[format-nongpl]>=4.18.0->jupyter-events>=0.9.0->jupyter-server<3,>=2.4.0->notebook->jupyter->-r ../requirements.txt (line 4)) (1.13)\r\n",
      "Requirement already satisfied: cffi>=1.0.1 in /home/jfu08/PycharmProjects/AnalyzingHyperpartisanDocuments/venv/lib/python3.10/site-packages (from argon2-cffi-bindings->argon2-cffi->jupyter-server<3,>=2.4.0->notebook->jupyter->-r ../requirements.txt (line 4)) (1.16.0)\r\n",
      "Requirement already satisfied: pycparser in /home/jfu08/PycharmProjects/AnalyzingHyperpartisanDocuments/venv/lib/python3.10/site-packages (from cffi>=1.0.1->argon2-cffi-bindings->argon2-cffi->jupyter-server<3,>=2.4.0->notebook->jupyter->-r ../requirements.txt (line 4)) (2.22)\r\n",
      "Requirement already satisfied: arrow>=0.15.0 in /home/jfu08/PycharmProjects/AnalyzingHyperpartisanDocuments/venv/lib/python3.10/site-packages (from isoduration->jsonschema[format-nongpl]>=4.18.0->jupyter-events>=0.9.0->jupyter-server<3,>=2.4.0->notebook->jupyter->-r ../requirements.txt (line 4)) (1.3.0)\r\n",
      "Requirement already satisfied: types-python-dateutil>=2.8.10 in /home/jfu08/PycharmProjects/AnalyzingHyperpartisanDocuments/venv/lib/python3.10/site-packages (from arrow>=0.15.0->isoduration->jsonschema[format-nongpl]>=4.18.0->jupyter-events>=0.9.0->jupyter-server<3,>=2.4.0->notebook->jupyter->-r ../requirements.txt (line 4)) (2.9.0.20240316)\r\n"
     ]
    }
   ],
   "source": [
    "!pip install -r ../requirements.txt"
   ],
   "metadata": {
    "collapsed": false,
    "ExecuteTime": {
     "end_time": "2024-04-05T10:52:38.950237Z",
     "start_time": "2024-04-05T10:52:37.662199Z"
    }
   },
   "id": "a24e64b979b624ff",
   "execution_count": 3
  },
  {
   "cell_type": "markdown",
   "source": [
    "## 2. Perform Hyperpartisan Documents Analysis "
   ],
   "metadata": {
    "collapsed": false
   },
   "id": "3bf42cc85a2615b9"
  },
  {
   "cell_type": "markdown",
   "source": [
    "### 2.1 Add necessary import statements"
   ],
   "metadata": {
    "collapsed": false
   },
   "id": "da6e8cdd117ac754"
  },
  {
   "cell_type": "code",
   "outputs": [],
   "source": [
    "from src.log_odd_ratios.LogOddRatiosAnalyzer import LogOddRatiosAnalyzer\n",
    "from src.log_odd_ratios.LogOddRatiosCalculator import LogOddRatiosCalculator, TokenType\n",
    "from src.constant_values.enums import DocumentType\n",
    "from src.get_hyperpartisan_data.HyperpartisanDocumentsFormatter import HyperpartisanDocumentsFormatter\n",
    "from src.get_hyperpartisan_data.HyperpartisanDocumentsProcessor import HyperpartisanDocumentsProcessor\n",
    "from src.utils import console_output_formatter"
   ],
   "metadata": {
    "collapsed": false,
    "ExecuteTime": {
     "end_time": "2024-04-05T10:57:27.865281Z",
     "start_time": "2024-04-05T10:57:27.591180Z"
    }
   },
   "id": "f05a50263e1a8c3f",
   "execution_count": 4
  },
  {
   "cell_type": "markdown",
   "source": [
    "### 2.2. Adapt hyperpartisan documents format into text files"
   ],
   "metadata": {
    "collapsed": false
   },
   "id": "6d539f9c6c8ee3af"
  },
  {
   "cell_type": "code",
   "execution_count": 5,
   "id": "initial_id",
   "metadata": {
    "collapsed": true,
    "ExecuteTime": {
     "end_time": "2024-04-05T10:58:08.534489Z",
     "start_time": "2024-04-05T10:57:33.925948Z"
    }
   },
   "outputs": [
    {
     "name": "stdout",
     "output_type": "stream",
     "text": [
      "###########################\n",
      "#                         #\n",
      "#     DATA FORMATTING     #\n",
      "#                         #\n",
      "###########################\n",
      "\n",
      "Extracting XML data from zip files ...\n",
      "Extracting file articles-validation-bypublisher-20181122.zip ...\n",
      "File articles-validation-bypublisher-20181122.zip extracted\n",
      "Extracting file ground-truth-validation-bypublisher-20181122.zip ...\n",
      "File ground-truth-validation-bypublisher-20181122.zip extracted\n"
     ]
    },
    {
     "name": "stderr",
     "output_type": "stream",
     "text": [
      "Getting ground truth values ...: 100%|██████████| 150000/150000 [00:00<00:00, 281905.20it/s]\n",
      "Extracting text from articles ...: 100%|██████████| 150000/150000 [00:24<00:00, 6011.95it/s]"
     ]
    },
    {
     "name": "stdout",
     "output_type": "stream",
     "text": []
    },
    {
     "name": "stderr",
     "output_type": "stream",
     "text": [
      "\n"
     ]
    }
   ],
   "source": [
    "console_output_formatter.print_section_header(section_header='Data formatting')\n",
    "hyperpartisan_documents_formatter = HyperpartisanDocumentsFormatter()\n",
    "hyperpartisan_documents_formatter.adapt_dataset_format()"
   ]
  },
  {
   "cell_type": "markdown",
   "source": [
    "### 2.3. Process hyperpartisan documents (if necessary) and load"
   ],
   "metadata": {
    "collapsed": false
   },
   "id": "7ca333e482f5a2ad"
  },
  {
   "cell_type": "code",
   "outputs": [
    {
     "name": "stdout",
     "output_type": "stream",
     "text": [
      "########################################\n",
      "#                                      #\n",
      "#     DATA LOADING / PREPROCESSING     #\n",
      "#                                      #\n",
      "########################################\n"
     ]
    },
    {
     "name": "stderr",
     "output_type": "stream",
     "text": [
      "Getting clean documents from txt files for HYPERPARTISAN ...: 100%|██████████| 75000/75000 [03:50<00:00, 325.56it/s]\n"
     ]
    },
    {
     "name": "stdout",
     "output_type": "stream",
     "text": [
      "Clean document list (HYPERPARTISAN) loaded successfully.\n",
      "Saving HYPERPARTISAN document list into pickle file ...\n",
      "Pickle file saved. \n",
      "\n",
      "DOCUMENT LIST STATISTICS (HYPERPARTISAN):\n",
      "Number of documents: 75000\n",
      "Document sample after performing preprocessing:\n",
      "['pro-life', 'students', 'wilfrid', 'laurier', 'university', 'say', 'longer', 'able', 'put', 'pro-life', 'flag', 'display', ',', 'campus', 'leaders', 'explaining', 'exhibits', 'traumatic', 'one', 'last', 'fall', 'caused', 'uproar', 'canadian', 'campus', '.', 'display', 'used', '10,000', 'pink', 'blue', 'flags', 'represent', '100,000', 'abortions', 'year', 'canada', '.', 'student', 'union', 'president', 'tyler', 'van', 'herzele', ',', 'letter', 'shared', 'campuswide', ',', 'stated', '“', 'visceral', 'nature', 'display', 'interfered', 'ability', 'members', 'laurier', 'community', 'safely', 'attend', 'class', ',', 'travel', 'work', 'remain', 'campus', 'study.', '”', '“', 'adversarial', 'tone', 'event', 'evoked', 'confrontation', 'eliminated', 'possibility', 'respectful', 'dialogue', 'created', 'unsafe', 'environment', 'students.', '”', 'according', 'december', '2016', 'letter', ',', 'several', 'offices', ',', 'including', 'diversity', 'equity', 'office', ',', 'worked', 'together', '“', 'ensure', 'happen', 'again.', '”', 'email', 'college', 'fix', 'month', ',', 'campus', 'spokesman', 'kevin', 'crowley', 'echoed', 'sentiments', '.', 'noted', 'university', '“', 'firmly', 'upholds', 'principles', 'free', 'speech', 'strives', 'provide', 'environment', 'protects', 'right', 'people', 'engage', 'critical', 'respectful', 'dialogue.', '”', ',', 'added', ',', '“', 'must', ',', 'however', ',', 'balance', 'exercise', 'free', 'speech', 'need', 'support', 'individuals', 'may', 'experienced', 'harm', 'related', 'specific', 'topic', 'discussed.', '”', 'display', 'question', 'project', 'school', '’', 'lifelink', 'group', '.', 'set', 'october', 'quad', ',', 'approval', 'student', 'union', '.', 'earlier', 'month', ',', 'christine', 'schuknecht', ',', 'student', 'university', '’', 'waterloo', 'campus', 'member', 'lifelink', ',', 'wrote', 'national', 'post', 'led', 'display', 'banned', '.', 'flags', 'several', 'hours', ',', 'students', 'university', 'employees', 'took', 'action', ',', 'according', 'schuknect', '.', 'diversity', 'equity', 'office', 'placed', 'sign', 'display', 'reading', '“', 'warning', ':', 'anti-choice', 'display', 'ahead.', '”', 'special', 'constable', 'services', 'called', 'students', 'vandalized', 'flags', 'club', 'banner', 'yelled', 'lifelink', 'members', '.', 'constables', 'see', 'issue', 'display', 'commended', 'members', ',', 'wrote', '.', 'schuknect', 'explains', '“', 'dumbfounded.', '”', 'diversity', 'equity', 'office', ',', 'wrote', ',', 'supposed', '“', 'non-partisan', ',', '”', 'used', '“', 'anti-choice', '”', 'describe', 'club', '.', '“', 'deo', 'hangs', 'posters', 'across', 'campus', 'insisting', 'students', 'use', '‘', 'proper', 'terms', '’', 'addressing', 'groups', 'explicitly', 'supports', ',', 'went', 'way', 'apply', 'negatively', 'torqued', 'label', ',', '”', 'schuknect', 'wrote', '.', 'jonah', 'vanleeuwen', ',', 'group', '’', 'vice-president', ',', 'echoed', 'sentiments', 'surprise', 'disappointment', '.', '“', 'disappointed', 'see', 'despite', 'efforts', 'stay', 'peaceful', 'reserved', ',', 'group', 'using', 'violent', 'tactics', 'raised', 'pedestal', ',', '”', 'said', 'email', 'college', 'fix', '.', 'students', 'spoke', 'display', 'ways', '.', 'cord', ',', 'campus', 'newspaper', ',', 'published', '“', 'anti-abortion', 'demonstration', 'quad', ',', '”', 'wrote', 'university', '“', 'surprised', '”', 'see', 'flags', '.', 'article', 'included', 'statements', 'daniel', 'quintia', ',', 'third-year', 'student', 'admitted', 'pulling', 'flags', ',', 'saying', '“', 'frankly', 'kind', 'pissed.', '”', 'diversity', 'equity', 'office', 'referred', 'college', 'fix', 'student', 'union', 'emailed', 'comment', '.', 'van', 'herzele', 'failed', 'respond', 'emails', 'phone', 'calls', 'fix', '.', ':', '&', '#', '160', ';', 'washington', 'state', 'student', 'tears', 'pro-life', 'display', '‘', 'really', 'made', 'angry', '’', ':', 'student', 'pro-life', 'display', 'casually', 'vandalized', 'broad', 'daylight', 'cu-boulder', 'like', 'college', 'fix', 'facebook', '/', 'follow', 'us', 'twitter'] \n"
     ]
    },
    {
     "name": "stderr",
     "output_type": "stream",
     "text": [
      "Getting clean documents from txt files for NON-HYPERPARTISAN ...: 100%|██████████| 75000/75000 [05:51<00:00, 213.24it/s]\n"
     ]
    },
    {
     "name": "stdout",
     "output_type": "stream",
     "text": [
      "Clean document list (NON-HYPERPARTISAN) loaded successfully.\n",
      "Saving NON-HYPERPARTISAN document list into pickle file ...\n",
      "Pickle file saved. \n",
      "\n",
      "DOCUMENT LIST STATISTICS (NON-HYPERPARTISAN):\n",
      "Number of documents: 75000\n",
      "Document sample after performing preprocessing:\n",
      "['chief', 'juvenile', 'probation', 'officer', 'gwendolyn', 'tucker', ',', 'charge', 'city', 'department', 'incarcerates', 'attempts', 'rehabilitate', 'thousands', 'children', 'accused', 'committing', 'crimes', ',', 'facing', 'flood', 'criticism', 'youth', 'advocates', ',', 'staff', 'juvenile', 'probation', 'commissioners', 'considering', 'whether', 'fire', '.', 'juvenile', 'probation', 'commission', 'held', 'emergency', 'meeting', 'monday', 'lasted', 'long', 'night', 'reconvening', 'today', 'discuss', 'tucker', \"'s\", 'fate', '.', 'tucker', ',', 'promoted', 'assistant', 'chief', 'last', 'summer', 'then-', 'chief', 'jesse', 'williams', 'quit', ',', 'accused', 'ignoring', 'gas', 'leaks', 'fire', 'hazards', 'log', 'cabin', 'ranch', 'boys', ',', 'working', 'hard', 'enough', 'send', 'youths', 'community', 'rehabilitation', 'programs', 'rather', 'juvenile', 'hall', 'lockup', ',', 'clashing', 'staff', '.', 'tucker', 'publicly', 'answered', 'accusers', 'referred', 'questions', ',', 'including', 'past', 'present', 'gas', 'leaks', 'operational', 'issues', ',', 'private', 'attorney', ',', 'gregg', 'adam', '.', 'adam', 'said', 'tucker', 'meet', 'behind', 'closed', 'doors', 'commissioners', 'sometime', 'today', \"'s\", 'meeting', '.', '``', 'respond', 'commission', ',', \"''\", 'adam', 'said', '.', '``', \"'s\", 'appropriate', 'respond', 'publicly', '.', \"''\", 'possible', 'shakeup', 'juvenile', 'probation', 'department', 'one', 'controversy', 'department', 'struggled', 'youth', 'advocates', 'say', 'one', 'highest', 'incarceration', 'rates', 'state', '.', 'two', 'major', 'reform', 'efforts', 'since', '1996', 'reduce', 'number', 'minors', 'lockup', 'sending', 'low-risk', 'offenders', 'community', 'programs', '.', 'watchdogs', 'said', 'efforts', 'made', 'little', 'impact', '.', '``', 'takes', 'dedicated', ',', 'willful', 'leadership', ',', 'kind', 'leadership', 'might', 'find', 'outside', 'san', 'francisco', ',', \"''\", 'said', 'andrea', 'shorter', ',', 'deputy', 'executive', 'director', 'center', 'juvenile', 'criminal', 'justice', ',', 'think', 'tank', 'lobbying', 'group', 'advocates', 'rehabilitation', 'programs', 'rather', 'incarceration', '.', 'year', 'ago', ',', 'juvenile', 'probation', 'department', 'adopted', 'new', 'intake', 'questionnaire', 'meant', 'help', 'probation', 'officers', 'determine', 'whether', 'recently', 'arrested', 'children', 'locked', 'awaiting', 'court', 'date', 'released', 'community', 'program', '.', 'kids', 'graded', 'according', 'severity', 'alleged', 'crime', ',', 'history', 'flight', 'risk', '.', 'ntanya', 'lee', 'coleman', 'advocates', 'children', 'youth', 'said', '93', 'percent', 'arrested', 'juveniles', 'incarcerated', 'new', 'intake', 'procedure', 'adopted', '.', 'year', 'later', ',', 'said', ',', 'kids', 'considered', 'low', 'risk', 'still', 'locked', 'probation', 'officers', 'ignoring', 'new', 'system', '.', 'lee', 'said', 'mayor', 'gavin', 'newsom', 'made', 'campaign', 'promise', 'appoint', 'new', 'chief', ',', 'still', 'waiting', '.', 'mayor', 'slowly', 'replacing', 'department', 'heads', 'since', 'took', 'office', 'seven', 'months', 'ago', '.', 'juvenile', 'probation', 'commission', 'might', 'move', 'ahead', 'without', '.', 'monday', \"'s\", 'commission', 'meeting', ',', 'lee', 'joined', 'watchdogs', 'employees', 'testified', 'tucker', \"'s\", 'job', 'performance', '.', 'tucker', \"'s\", 'supporters', 'included', 'director', 'special', 'programs', 'youth', ',', 'declined', 'interviewed', 'later', '.', 'mercedes', 'hernandez-bran', ',', 'department', \"'s\", 'human', 'resources', 'director', ',', 'told', 'commission', 'since', 'december', 'tried', 'alert', 'tucker', 'staff', 'gas', 'leaks', 'fires', 'kitchen', 'laundry', 'room', 'log', 'cabin', 'ranch', ',', 'residential', 'program', 'la', 'honda', '.', 'hernandez-bran', 'alleged', 'warnings', 'pushed', 'aside', '.', 'longtime', 'cook', 'jeff', 'hatton', ',', \"n't\", 'attend', 'meeting', ',', 'told', 'chronicle', 'always', 'smells', 'gas', 'leak', 'last', 'week', 'resulted', 'small', 'fire', '.', 'la', 'honda', 'volunteer', 'fire', 'chief', 'larry', 'whitney', 'said', 'crew', 'responded', 'six', 'calls', 'ranch', 'since', 'november', ',', 'one', 'incident', 'included', 'gas', 'leak', 'administration', 'building', '.', 'said', 'although', 'calls', 'usual', ',', 'none', 'incidents', 'significant', '.', 'meanwhile', ',', 'tucker', 'attorney', 'awaiting', 'commission', \"'s\", 'next', 'move', '.', 'adam', 'said', 'argue', 'labor', 'laws', 'peace', 'officers', 'afford', 'right', 'appeal', 'dismissal', ',', \"'s\", 'coming', '.'] \n",
      "\n"
     ]
    }
   ],
   "source": [
    "console_output_formatter.print_section_header(section_header='Data loading / preprocessing')\n",
    "hyperpartisan_documents_processor = HyperpartisanDocumentsProcessor()\n",
    "\n",
    "hyperpartisan_document_list = hyperpartisan_documents_processor.get_clean_documents(\n",
    "    document_type=DocumentType.HYPERPARTISAN\n",
    ")\n",
    "console_output_formatter.print_document_list_stats(\n",
    "    document_list=hyperpartisan_document_list,\n",
    "    document_type=DocumentType.HYPERPARTISAN\n",
    ")\n",
    "\n",
    "non_hyperpartisan_document_list = hyperpartisan_documents_processor.get_clean_documents(\n",
    "    document_type=DocumentType.NON_HYPERPARTISAN\n",
    ")\n",
    "console_output_formatter.print_document_list_stats(\n",
    "    document_list=non_hyperpartisan_document_list,\n",
    "    document_type=DocumentType.NON_HYPERPARTISAN\n",
    ")"
   ],
   "metadata": {
    "collapsed": false,
    "ExecuteTime": {
     "end_time": "2024-04-05T11:09:35.048551Z",
     "start_time": "2024-04-05T10:59:26.957481Z"
    }
   },
   "id": "8a7357046fa1e25e",
   "execution_count": 6
  },
  {
   "cell_type": "markdown",
   "source": [
    "### 2.4. Remove infrequent words (log-odd ratio is sensitive to them)"
   ],
   "metadata": {
    "collapsed": false
   },
   "id": "bf1682d83d681a2e"
  },
  {
   "cell_type": "code",
   "outputs": [],
   "source": [
    "hyperpartisan_document_list, non_hyperpartisan_document_list = (hyperpartisan_documents_processor.\n",
    "    remove_infrequent_words(\n",
    "        hyperpartisan_documents=hyperpartisan_document_list,\n",
    "        non_hyperpartisan_documents=non_hyperpartisan_document_list\n",
    "    )\n",
    ")"
   ],
   "metadata": {
    "collapsed": false
   },
   "id": "95c84fdd62ba6cb",
   "execution_count": null
  },
  {
   "cell_type": "markdown",
   "source": [
    "### 2.5. Calculate log-odd ratios"
   ],
   "metadata": {
    "collapsed": false
   },
   "id": "e133d47d1cd06663"
  },
  {
   "cell_type": "markdown",
   "source": [
    "#### 2.5.1. Calculate on `UNIGRAMS`"
   ],
   "metadata": {
    "collapsed": false
   },
   "id": "93c74484f896f41e"
  },
  {
   "cell_type": "code",
   "outputs": [],
   "source": [
    "console_output_formatter.print_section_header(section_header='Log-odd ratios calculation (on unigrams)')\n",
    "log_odd_ratios_calculator = LogOddRatiosCalculator(\n",
    "    hyperpartisan_documents=hyperpartisan_document_list,\n",
    "    non_hyperpartisan_documents=non_hyperpartisan_document_list,\n",
    "    token_type=TokenType.UNIGRAM\n",
    ")\n",
    "\n",
    "log_odd_ratios_calculator.calculate_log_odd_ratios()"
   ],
   "metadata": {
    "collapsed": false
   },
   "id": "1af600cb14956991",
   "execution_count": null
  },
  {
   "cell_type": "markdown",
   "source": [
    "#### 2.5.2. Calculate on `BIGRAMS`"
   ],
   "metadata": {
    "collapsed": false
   },
   "id": "47edaa7d2fd2289d"
  },
  {
   "cell_type": "code",
   "outputs": [],
   "source": [
    "console_output_formatter.print_section_header(section_header='Log-odd ratios calculation (on bigrams)')\n",
    "log_odd_ratios_calculator = LogOddRatiosCalculator(\n",
    "    hyperpartisan_documents=hyperpartisan_document_list,\n",
    "    non_hyperpartisan_documents=non_hyperpartisan_document_list,\n",
    "    token_type=TokenType.BIGRAM\n",
    ")\n",
    "\n",
    "log_odd_ratios_calculator.calculate_log_odd_ratios()"
   ],
   "metadata": {
    "collapsed": false
   },
   "id": "a6ce3689503af028",
   "execution_count": null
  },
  {
   "cell_type": "markdown",
   "source": [
    "### 2.6. Get most relevant words for each document group"
   ],
   "metadata": {
    "collapsed": false
   },
   "id": "310bcdfb7d3cea79"
  },
  {
   "cell_type": "markdown",
   "source": [
    "#### 2.6.1. Most relevant words (on `UNIGRAMS`)"
   ],
   "metadata": {
    "collapsed": false
   },
   "id": "ecd79f75afa599d4"
  },
  {
   "cell_type": "code",
   "outputs": [],
   "source": [
    "console_output_formatter.print_section_header(section_header='Most relevant words extraction (on unigrams)')\n",
    "log_odd_ratios_analyzer = LogOddRatiosAnalyzer(token_type=TokenType.UNIGRAM)\n",
    "\n",
    "hyperpartisan_most_relevant_words_on_unigrams = (log_odd_ratios_analyzer.get_most_relevant_words(document_type=DocumentType.HYPERPARTISAN))\n",
    "print(f'{hyperpartisan_most_relevant_words_on_unigrams} \\n')\n",
    "hyperpartisan_most_relevant_words_not_inf_on_unigrams = (log_odd_ratios_analyzer.\n",
    "    get_most_relevant_words(\n",
    "        document_type=DocumentType.HYPERPARTISAN,\n",
    "        infinite_values=False\n",
    "    )\n",
    ")\n",
    "print(f'{hyperpartisan_most_relevant_words_not_inf_on_unigrams} \\n\\n')\n",
    "\n",
    "non_hyperpartisan_most_relevant_words_on_unigrams = (log_odd_ratios_analyzer.get_most_relevant_words(document_type=DocumentType.NON_HYPERPARTISAN))\n",
    "print(f'{non_hyperpartisan_most_relevant_words_on_unigrams} \\n')\n",
    "non_hyperpartisan_most_relevant_words_not_inf_on_unigrams = (log_odd_ratios_analyzer.\n",
    "    get_most_relevant_words(\n",
    "        document_type=DocumentType.NON_HYPERPARTISAN,\n",
    "        infinite_values=False\n",
    "    )\n",
    ")\n",
    "print(non_hyperpartisan_most_relevant_words_not_inf_on_unigrams)"
   ],
   "metadata": {
    "collapsed": false
   },
   "id": "b1956f6e9f479358",
   "execution_count": null
  },
  {
   "cell_type": "markdown",
   "source": [
    "#### 2.6.2. Most relevant words (on `BIGRAMS`)"
   ],
   "metadata": {
    "collapsed": false
   },
   "id": "1d48178513dc34de"
  },
  {
   "cell_type": "code",
   "outputs": [],
   "source": [
    "console_output_formatter.print_section_header(section_header='Most relevant words extraction (on bigrams)')\n",
    "log_odd_ratios_analyzer = LogOddRatiosAnalyzer(token_type=TokenType.BIGRAM)\n",
    "\n",
    "hyperpartisan_most_relevant_words_on_bigrams = (log_odd_ratios_analyzer.get_most_relevant_words(document_type=DocumentType.HYPERPARTISAN))\n",
    "print(f'{hyperpartisan_most_relevant_words_on_bigrams} \\n')\n",
    "hyperpartisan_most_relevant_words_not_inf_on_bigrams = (log_odd_ratios_analyzer.\n",
    "    get_most_relevant_words(\n",
    "        document_type=DocumentType.HYPERPARTISAN,\n",
    "        infinite_values=False\n",
    "    )\n",
    ")\n",
    "print(f'{hyperpartisan_most_relevant_words_not_inf_on_bigrams} \\n\\n')\n",
    "\n",
    "non_hyperpartisan_most_relevant_words_on_bigrams = (log_odd_ratios_analyzer.get_most_relevant_words(document_type=DocumentType.NON_HYPERPARTISAN))\n",
    "print(f'{non_hyperpartisan_most_relevant_words_on_bigrams} \\n')\n",
    "non_hyperpartisan_most_relevant_words_not_inf_on_bigrams = (log_odd_ratios_analyzer.\n",
    "    get_most_relevant_words(\n",
    "        document_type=DocumentType.NON_HYPERPARTISAN,\n",
    "        infinite_values=False\n",
    "    )\n",
    ")\n",
    "print(non_hyperpartisan_most_relevant_words_not_inf_on_bigrams)"
   ],
   "metadata": {
    "collapsed": false
   },
   "id": "42d458f98893a2cc",
   "execution_count": null
  },
  {
   "cell_type": "markdown",
   "source": [
    "\\* NOTE: Due to excessive RAM memory usage some checkpoints have been stored via *pickle* files and the environment has been restarted 2-3 times. "
   ],
   "metadata": {
    "collapsed": false
   },
   "id": "e573ac7207e0f4b9"
  },
  {
   "cell_type": "markdown",
   "source": [
    "## 3. Results Analysis"
   ],
   "metadata": {
    "collapsed": false
   },
   "id": "217dd566808c4059"
  }
 ],
 "metadata": {
  "kernelspec": {
   "display_name": "Python 3",
   "language": "python",
   "name": "python3"
  },
  "language_info": {
   "codemirror_mode": {
    "name": "ipython",
    "version": 2
   },
   "file_extension": ".py",
   "mimetype": "text/x-python",
   "name": "python",
   "nbconvert_exporter": "python",
   "pygments_lexer": "ipython2",
   "version": "2.7.6"
  }
 },
 "nbformat": 4,
 "nbformat_minor": 5
}
