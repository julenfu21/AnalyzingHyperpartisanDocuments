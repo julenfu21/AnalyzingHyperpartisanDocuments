{
 "cells": [
  {
   "cell_type": "markdown",
   "source": [
    "# Analyzing Hyperpartisan Documents (on unigrams)"
   ],
   "metadata": {
    "collapsed": false
   },
   "id": "6dd4d717c5cff539"
  },
  {
   "cell_type": "markdown",
   "source": [
    "## 1. Setup Working Environment"
   ],
   "metadata": {
    "collapsed": false
   },
   "id": "bccccc10080ec8fe"
  },
  {
   "cell_type": "markdown",
   "source": [
    "### 1.1. Load zip data files"
   ],
   "metadata": {
    "collapsed": false
   },
   "id": "e816f8cf63e214e0"
  },
  {
   "cell_type": "markdown",
   "source": [
    "#### 1.1.1. Download zip files from Google Drive link"
   ],
   "metadata": {
    "collapsed": false
   },
   "id": "b543bd962b3ebdfb"
  },
  {
   "cell_type": "code",
   "outputs": [],
   "source": [
    "import gdown\n",
    "\n",
    "zip_data_url = \"https://drive.google.com/drive/folders/1e8tgF2tGdZJ0HU-7pKX7yMLBLw71XTMe?usp=drive_link\"\n",
    "gdown.download_folder(zip_data_url)"
   ],
   "metadata": {
    "collapsed": false
   },
   "id": "2d18f2f4f7c39d2",
   "execution_count": null
  },
  {
   "cell_type": "markdown",
   "source": [
    "#### 1.1.2. Move downloaded data files to the corresponding `zip_data_path`"
   ],
   "metadata": {
    "collapsed": false
   },
   "id": "cc3fde23e5781959"
  },
  {
   "cell_type": "code",
   "outputs": [],
   "source": [
    "import os\n",
    "import shutil\n",
    "\n",
    "\n",
    "downloaded_data_path = 'data'\n",
    "zip_data_path = '../data/zip'\n",
    "\n",
    "os.makedirs(zip_data_path)\n",
    "for zip_data_file in os.listdir('data'):\n",
    "    source_path = os.path.join(downloaded_data_path, zip_data_file)\n",
    "    destination_path = os.path.join(zip_data_path, zip_data_file)\n",
    "    shutil.move(source_path, destination_path)\n",
    "\n",
    "os.rmdir(downloaded_data_path)"
   ],
   "metadata": {
    "collapsed": false
   },
   "id": "c9ae201f259840e0",
   "execution_count": null
  },
  {
   "cell_type": "markdown",
   "source": [
    "### 1.3. Install required packages"
   ],
   "metadata": {
    "collapsed": false
   },
   "id": "82d16d021b33e690"
  },
  {
   "cell_type": "code",
   "outputs": [],
   "source": [
    "!pip install -r ../requirements.txt"
   ],
   "metadata": {
    "collapsed": false
   },
   "id": "a24e64b979b624ff",
   "execution_count": null
  },
  {
   "cell_type": "markdown",
   "source": [
    "## 2. Perform Hyperpartisan Documents Analysis "
   ],
   "metadata": {
    "collapsed": false
   },
   "id": "3bf42cc85a2615b9"
  },
  {
   "cell_type": "markdown",
   "source": [
    "### 2.1 Add necessary import statements"
   ],
   "metadata": {
    "collapsed": false
   },
   "id": "da6e8cdd117ac754"
  },
  {
   "cell_type": "code",
   "outputs": [],
   "source": [
    "from src.log_odd_ratios.LogOddRatiosAnalyzer import LogOddRatiosAnalyzer\n",
    "from src.log_odd_ratios.LogOddRatiosCalculator import LogOddRatiosCalculator, TokenType\n",
    "from src.constant_values.enums import DocumentType\n",
    "from src.get_hyperpartisan_data.HyperpartisanDocumentsFormatter import HyperpartisanDocumentsFormatter\n",
    "from src.get_hyperpartisan_data.HyperpartisanDocumentsProcessor import HyperpartisanDocumentsProcessor\n",
    "from src.utils import console_output_formatter"
   ],
   "metadata": {
    "collapsed": false
   },
   "id": "f05a50263e1a8c3f",
   "execution_count": null
  },
  {
   "cell_type": "markdown",
   "source": [
    "### 2.2. Adapt hyperpartisan documents format into text files"
   ],
   "metadata": {
    "collapsed": false
   },
   "id": "6d539f9c6c8ee3af"
  },
  {
   "cell_type": "code",
   "execution_count": null,
   "id": "initial_id",
   "metadata": {
    "collapsed": true
   },
   "outputs": [],
   "source": [
    "console_output_formatter.print_section_header(section_header='Data formatting')\n",
    "hyperpartisan_documents_formatter = HyperpartisanDocumentsFormatter()\n",
    "hyperpartisan_documents_formatter.adapt_dataset_format()"
   ]
  },
  {
   "cell_type": "markdown",
   "source": [
    "### 2.3. Process hyperpartisan documents (if necessary) and load"
   ],
   "metadata": {
    "collapsed": false
   },
   "id": "7ca333e482f5a2ad"
  },
  {
   "cell_type": "code",
   "outputs": [],
   "source": [
    "console_output_formatter.print_section_header(section_header='Data loading / preprocessing')\n",
    "hyperpartisan_documents_processor = HyperpartisanDocumentsProcessor()\n",
    "\n",
    "hyperpartisan_document_list = hyperpartisan_documents_processor.get_clean_documents(\n",
    "    document_type=DocumentType.HYPERPARTISAN\n",
    ")\n",
    "console_output_formatter.print_document_list_stats(\n",
    "    document_list=hyperpartisan_document_list,\n",
    "    document_type=DocumentType.HYPERPARTISAN\n",
    ")\n",
    "\n",
    "non_hyperpartisan_document_list = hyperpartisan_documents_processor.get_clean_documents(\n",
    "    document_type=DocumentType.NON_HYPERPARTISAN\n",
    ")\n",
    "console_output_formatter.print_document_list_stats(\n",
    "    document_list=non_hyperpartisan_document_list,\n",
    "    document_type=DocumentType.NON_HYPERPARTISAN\n",
    ")"
   ],
   "metadata": {
    "collapsed": false
   },
   "id": "8a7357046fa1e25e",
   "execution_count": null
  },
  {
   "cell_type": "markdown",
   "source": [
    "### 2.4. Remove infrequent words (log-odd ratio is sensitive to them)"
   ],
   "metadata": {
    "collapsed": false
   },
   "id": "bf1682d83d681a2e"
  },
  {
   "cell_type": "code",
   "outputs": [],
   "source": [
    "hyperpartisan_document_list, non_hyperpartisan_document_list = (hyperpartisan_documents_processor.\n",
    "    remove_infrequent_words(\n",
    "        hyperpartisan_documents=hyperpartisan_document_list,\n",
    "        non_hyperpartisan_documents=non_hyperpartisan_document_list\n",
    "    )\n",
    ")"
   ],
   "metadata": {
    "collapsed": false
   },
   "id": "95c84fdd62ba6cb",
   "execution_count": null
  },
  {
   "cell_type": "markdown",
   "source": [
    "### 2.5. Calculate log-odd ratios"
   ],
   "metadata": {
    "collapsed": false
   },
   "id": "e133d47d1cd06663"
  },
  {
   "cell_type": "markdown",
   "source": [
    "#### 2.5.1. Calculate on `UNIGRAMS`"
   ],
   "metadata": {
    "collapsed": false
   },
   "id": "93c74484f896f41e"
  },
  {
   "cell_type": "code",
   "outputs": [],
   "source": [
    "console_output_formatter.print_section_header(section_header='Log-odd ratios calculation (on unigrams)')\n",
    "log_odd_ratios_calculator = LogOddRatiosCalculator(\n",
    "    hyperpartisan_documents=hyperpartisan_document_list,\n",
    "    non_hyperpartisan_documents=non_hyperpartisan_document_list,\n",
    "    token_type=TokenType.UNIGRAM\n",
    ")\n",
    "\n",
    "log_odd_ratios_calculator.calculate_log_odd_ratios()"
   ],
   "metadata": {
    "collapsed": false
   },
   "id": "1af600cb14956991",
   "execution_count": null
  },
  {
   "cell_type": "markdown",
   "source": [
    "#### 2.5.2. Calculate on `BIGRAMS`"
   ],
   "metadata": {
    "collapsed": false
   },
   "id": "47edaa7d2fd2289d"
  },
  {
   "cell_type": "code",
   "outputs": [],
   "source": [
    "console_output_formatter.print_section_header(section_header='Log-odd ratios calculation (on bigrams)')\n",
    "log_odd_ratios_calculator = LogOddRatiosCalculator(\n",
    "    hyperpartisan_documents=hyperpartisan_document_list,\n",
    "    non_hyperpartisan_documents=non_hyperpartisan_document_list,\n",
    "    token_type=TokenType.BIGRAM\n",
    ")\n",
    "\n",
    "log_odd_ratios_calculator.calculate_log_odd_ratios()"
   ],
   "metadata": {
    "collapsed": false
   },
   "id": "a6ce3689503af028",
   "execution_count": null
  },
  {
   "cell_type": "markdown",
   "source": [
    "### 2.6. Get most relevant words for each document group"
   ],
   "metadata": {
    "collapsed": false
   },
   "id": "310bcdfb7d3cea79"
  },
  {
   "cell_type": "markdown",
   "source": [
    "#### 2.6.1. Most relevant words (on `UNIGRAMS`)"
   ],
   "metadata": {
    "collapsed": false
   },
   "id": "ecd79f75afa599d4"
  },
  {
   "cell_type": "code",
   "outputs": [],
   "source": [
    "console_output_formatter.print_section_header(section_header='Most relevant words extraction (on unigrams)')\n",
    "log_odd_ratios_analyzer = LogOddRatiosAnalyzer(token_type=TokenType.UNIGRAM)\n",
    "\n",
    "hyperpartisan_most_relevant_words_on_unigrams = (log_odd_ratios_analyzer.get_most_relevant_words(document_type=DocumentType.HYPERPARTISAN))\n",
    "print(f'{hyperpartisan_most_relevant_words_on_unigrams} \\n')\n",
    "hyperpartisan_most_relevant_words_not_inf_on_unigrams = (log_odd_ratios_analyzer.\n",
    "    get_most_relevant_words(\n",
    "        document_type=DocumentType.HYPERPARTISAN,\n",
    "        infinite_values=False\n",
    "    )\n",
    ")\n",
    "print(f'{hyperpartisan_most_relevant_words_not_inf_on_unigrams} \\n\\n')\n",
    "\n",
    "non_hyperpartisan_most_relevant_words_on_unigrams = (log_odd_ratios_analyzer.get_most_relevant_words(document_type=DocumentType.NON_HYPERPARTISAN))\n",
    "print(f'{non_hyperpartisan_most_relevant_words_on_unigrams} \\n')\n",
    "non_hyperpartisan_most_relevant_words_not_inf_on_unigrams = (log_odd_ratios_analyzer.\n",
    "    get_most_relevant_words(\n",
    "        document_type=DocumentType.NON_HYPERPARTISAN,\n",
    "        infinite_values=False\n",
    "    )\n",
    ")\n",
    "print(non_hyperpartisan_most_relevant_words_not_inf_on_unigrams)"
   ],
   "metadata": {
    "collapsed": false
   },
   "id": "b1956f6e9f479358",
   "execution_count": null
  },
  {
   "cell_type": "markdown",
   "source": [
    "#### 2.6.2. Most relevant words (on `BIGRAMS`)"
   ],
   "metadata": {
    "collapsed": false
   },
   "id": "1d48178513dc34de"
  },
  {
   "cell_type": "code",
   "outputs": [],
   "source": [
    "console_output_formatter.print_section_header(section_header='Most relevant words extraction (on bigrams)')\n",
    "log_odd_ratios_analyzer = LogOddRatiosAnalyzer(token_type=TokenType.BIGRAM)\n",
    "\n",
    "hyperpartisan_most_relevant_words_on_bigrams = (log_odd_ratios_analyzer.get_most_relevant_words(document_type=DocumentType.HYPERPARTISAN))\n",
    "print(f'{hyperpartisan_most_relevant_words_on_bigrams} \\n')\n",
    "hyperpartisan_most_relevant_words_not_inf_on_bigrams = (log_odd_ratios_analyzer.\n",
    "    get_most_relevant_words(\n",
    "        document_type=DocumentType.HYPERPARTISAN,\n",
    "        infinite_values=False\n",
    "    )\n",
    ")\n",
    "print(f'{hyperpartisan_most_relevant_words_not_inf_on_bigrams} \\n\\n')\n",
    "\n",
    "non_hyperpartisan_most_relevant_words_on_bigrams = (log_odd_ratios_analyzer.get_most_relevant_words(document_type=DocumentType.NON_HYPERPARTISAN))\n",
    "print(f'{non_hyperpartisan_most_relevant_words_on_bigrams} \\n')\n",
    "non_hyperpartisan_most_relevant_words_not_inf_on_bigrams = (log_odd_ratios_analyzer.\n",
    "    get_most_relevant_words(\n",
    "        document_type=DocumentType.NON_HYPERPARTISAN,\n",
    "        infinite_values=False\n",
    "    )\n",
    ")\n",
    "print(non_hyperpartisan_most_relevant_words_not_inf_on_bigrams)"
   ],
   "metadata": {
    "collapsed": false
   },
   "id": "42d458f98893a2cc",
   "execution_count": null
  },
  {
   "cell_type": "markdown",
   "source": [
    "\\* NOTE: Due to excessive RAM memory usage some checkpoints have been stored via *pickle* files and the environment has been restarted 2-3 times. "
   ],
   "metadata": {
    "collapsed": false
   },
   "id": "e573ac7207e0f4b9"
  },
  {
   "cell_type": "markdown",
   "source": [
    "## 3. Results Analysis"
   ],
   "metadata": {
    "collapsed": false
   },
   "id": "217dd566808c4059"
  },
  {
   "cell_type": "code",
   "outputs": [],
   "source": [],
   "metadata": {
    "collapsed": false
   },
   "id": "cbf89f09eb79b2a8"
  }
 ],
 "metadata": {
  "kernelspec": {
   "display_name": "Python 3",
   "language": "python",
   "name": "python3"
  },
  "language_info": {
   "codemirror_mode": {
    "name": "ipython",
    "version": 2
   },
   "file_extension": ".py",
   "mimetype": "text/x-python",
   "name": "python",
   "nbconvert_exporter": "python",
   "pygments_lexer": "ipython2",
   "version": "2.7.6"
  }
 },
 "nbformat": 4,
 "nbformat_minor": 5
}
